{
 "cells": [
  {
   "cell_type": "code",
   "execution_count": 1,
   "id": "067ce70b-26e3-4807-b0b7-b06718d82d48",
   "metadata": {
    "tags": []
   },
   "outputs": [],
   "source": [
    "import requests\n",
    "from bs4 import BeautifulSoup"
   ]
  },
  {
   "cell_type": "code",
   "execution_count": 2,
   "id": "8042b8c5-209d-4bef-a90d-6f1c9c7881c2",
   "metadata": {
    "tags": []
   },
   "outputs": [
    {
     "name": "stdout",
     "output_type": "stream",
     "text": [
      "http://suumo.jp/chintai/tokyo/sc_shinjuku/?page=1\n"
     ]
    }
   ],
   "source": [
    "url = 'http://suumo.jp/chintai/tokyo/sc_shinjuku/?page={}'\n",
    "target_url = url.format(1)\n",
    "print(target_url)"
   ]
  },
  {
   "cell_type": "code",
   "execution_count": 3,
   "id": "5deee792-bced-48e4-b779-3245bd1edfa5",
   "metadata": {
    "tags": []
   },
   "outputs": [],
   "source": [
    "r = requests.get(target_url)\n",
    "soup = BeautifulSoup(r.text)"
   ]
  },
  {
   "cell_type": "code",
   "execution_count": 4,
   "id": "464310f1-660c-4cef-917b-c1553d09da2e",
   "metadata": {
    "tags": []
   },
   "outputs": [
    {
     "data": {
      "text/plain": [
       "<Response [200]>"
      ]
     },
     "execution_count": 4,
     "metadata": {},
     "output_type": "execute_result"
    }
   ],
   "source": [
    "r"
   ]
  },
  {
   "cell_type": "markdown",
   "id": "27982860-b20f-4370-8693-65c586521277",
   "metadata": {},
   "source": [
    "1ページあたりの物件情報を取得"
   ]
  },
  {
   "cell_type": "code",
   "execution_count": 5,
   "id": "15c2ab34-46ff-424b-8d65-3029826a0474",
   "metadata": {
    "tags": []
   },
   "outputs": [],
   "source": [
    "contents = soup.find_all('div',class_='cassetteitem')"
   ]
  },
  {
   "cell_type": "code",
   "execution_count": 6,
   "id": "9a7d6c80-bb86-4c2b-9cfc-1b5aae8ed51b",
   "metadata": {
    "tags": []
   },
   "outputs": [
    {
     "data": {
      "text/plain": [
       "20"
      ]
     },
     "execution_count": 6,
     "metadata": {},
     "output_type": "execute_result"
    }
   ],
   "source": [
    "len(contents)"
   ]
  },
  {
   "cell_type": "code",
   "execution_count": 7,
   "id": "dd9bc025-1699-4a70-9650-a089c34edcde",
   "metadata": {
    "collapsed": true,
    "jupyter": {
     "outputs_hidden": true
    },
    "tags": []
   },
   "outputs": [
    {
     "data": {
      "text/plain": [
       "<div class=\"cassetteitem\">\n",
       "<div class=\"cassetteitem-detail\">\n",
       "<div class=\"cassetteitem-detail-object\">\n",
       "<div class=\"cassetteitem_object\">\n",
       "<div class=\"cassetteitem_object-item\">\n",
       "<img alt=\"\" class=\"js-noContextMenu js-linkImage js-scrollLazy js-adjustImg\" height=\"0\" rel=\"https://img01.suumo.com/front/gazo/fr/bukken/314/100342786314/100342786314_gw.jpg\" src=\"data:image/gif;base64,R0lGODlhAQABAIAAAAAAAAAAACH5BAEAAAAALAAAAAABAAEAAAICRAEAOw%3D%3D\" width=\"0\"/>\n",
       "</div>\n",
       "</div>\n",
       "</div>\n",
       "<div class=\"cassetteitem-detail-body\">\n",
       "<div class=\"cassetteitem_content\">\n",
       "<div class=\"cassetteitem_content-label\"><span class=\"ui-pct ui-pct--util1\">賃貸マンション</span></div>\n",
       "<div class=\"cassetteitem_content-title\">My Style vintage早稲田</div>\n",
       "<div class=\"cassetteitem_content-body\">\n",
       "<ul class=\"cassetteitem_detail\">\n",
       "<li class=\"cassetteitem_detail-col1\">東京都新宿区大久保２</li>\n",
       "<li class=\"cassetteitem_detail-col2\">\n",
       "<div class=\"cassetteitem_detail-text\">東京メトロ副都心線/西早稲田駅 歩4分</div>\n",
       "<div class=\"cassetteitem_detail-text\">都営大江戸線/東新宿駅 歩5分</div>\n",
       "<div class=\"cassetteitem_detail-text\">ＪＲ山手線/新大久保駅 歩13分</div>\n",
       "</li>\n",
       "<li class=\"cassetteitem_detail-col3\">\n",
       "<div>築2年</div>\n",
       "<div>3階建</div>\n",
       "</li>\n",
       "</ul>\n",
       "</div>\n",
       "</div>\n",
       "</div>\n",
       "</div>\n",
       "<div class=\"cassetteitem-item\">\n",
       "<table class=\"cassetteitem_other\">\n",
       "<thead>\n",
       "<tr>\n",
       "<th class=\"cassetteitem_other-col01\"> </th>\n",
       "<th class=\"cassetteitem_other-col02\"> </th>\n",
       "<th class=\"cassetteitem_other-col03\">階</th>\n",
       "<th class=\"cassetteitem_other-col04\">賃料/管理費</th>\n",
       "<th class=\"cassetteitem_other-col05\">敷金/礼金</th>\n",
       "<th class=\"cassetteitem_other-col06\">間取り/専有面積</th>\n",
       "<th class=\"cassetteitem_other-col07\"> </th>\n",
       "<th class=\"cassetteitem_other-col08\">お気に入り</th>\n",
       "<th class=\"cassetteitem_other-col09\"> </th>\n",
       "</tr>\n",
       "</thead>\n",
       "<tbody>\n",
       "<tr class=\"js-cassette_link\">\n",
       "<td class=\"cassetteitem_other-checkbox js-cassetteitem_checkbox\">\n",
       "<input class=\"js-ikkatsuCB js-single_checkbox\" id=\"bukken_0\" name=\"bc\" type=\"checkbox\" value=\"100342786314\"/><label for=\"bc\"> </label>\n",
       "</td>\n",
       "<td>\n",
       "<div class=\"casssetteitem_other-thumbnail js-view_gallery_images js-noContextMenu\" data-imgs=\"https://img01.suumo.com/front/gazo/fr/bukken/314/100342786314/100342786314_go.jpg,https://img01.suumo.com/front/gazo/fr/bukken/314/100342786314/100342786314_co.jpg,https://img01.suumo.com/front/gazo/fr/bukken/314/100342786314/100342786314_ro.jpg,https://img01.suumo.com/front/gazo/fr/bukken/314/100342786314/100342786314_1o.jpg,https://img01.suumo.com/front/gazo/fr/bukken/314/100342786314/100342786314_2o.jpg,https://img01.suumo.com/front/gazo/fr/bukken/314/100342786314/100342786314_3o.jpg,https://img01.suumo.com/front/gazo/fr/bukken/314/100342786314/100342786314_6o.jpg,https://img01.suumo.com/front/gazo/fr/bukken/314/100342786314/100342786314_4o.jpg,https://img01.suumo.com/front/gazo/fr/bukken/314/100342786314/100342786314_11o.jpg,https://img01.suumo.com/front/gazo/fr/bukken/314/100342786314/100342786314_8o.jpg,https://img01.suumo.com/front/gazo/fr/bukken/314/100342786314/100342786314_5o.jpg,https://img01.suumo.com/front/gazo/fr/bukken/314/100342786314/100342786314_9o.jpg,https://img01.suumo.com/front/gazo/fr/bukken/314/100342786314/100342786314_10o.jpg,https://img01.suumo.com/front/gazo/fr/bukken/314/100342786314/100342786314_s5o.jpg,https://img01.suumo.com/front/gazo/fr/bukken/314/100342786314/100342786314_s3o.jpg,https://img01.suumo.com/front/gazo/fr/bukken/314/100342786314/100342786314_7o.jpg,https://img01.suumo.com/front/gazo/fr/bukken/314/100342786314/100342786314_s1o.jpg,https://img01.suumo.com/front/gazo/fr/bukken/314/100342786314/100342786314_s2o.jpg,https://img01.suumo.com/front/gazo/fr/bukken/314/100342786314/100342786314_s4o.jpg,https://img01.suumo.com/front/gazo/fr/bukken/314/100342786314/100342786314_s6o.jpg\">\n",
       "<img alt=\"\" class=\"casssetteitem_other-thumbnail-img casssetteitem_other-thumbnail-img--hasimages js-view_gallery-modal js-scrollLazy\" rel=\"https://img01.suumo.com/front/gazo/fr/bukken/314/100342786314/100342786314_co.jpg\" src=\"data:image/gif;base64,R0lGODlhAQABAIAAAAAAAAAAACH5BAEAAAAALAAAAAABAAEAAAICRAEAOw%3D%3D\"/>\n",
       "<span class=\"cassetteitem_other-thumbnail-expansion js-view_gallery-modal\"></span>\n",
       "</div>\n",
       "</td>\n",
       "<td>\n",
       "\t\t\t\t\t\t\t\t\t\t\t1階</td>\n",
       "<td>\n",
       "<ul>\n",
       "<li><span class=\"cassetteitem_price cassetteitem_price--rent\"><span class=\"cassetteitem_other-emphasis ui-text--bold\">10.2万円</span></span></li>\n",
       "<li><span class=\"cassetteitem_price cassetteitem_price--administration\">5000円</span></li>\n",
       "</ul>\n",
       "</td>\n",
       "<td>\n",
       "<ul>\n",
       "<li><span class=\"cassetteitem_price cassetteitem_price--deposit\">10.2万円</span></li>\n",
       "<li><span class=\"cassetteitem_price cassetteitem_price--gratuity\">10.2万円</span></li>\n",
       "</ul>\n",
       "</td>\n",
       "<td>\n",
       "<ul>\n",
       "<li><span class=\"cassetteitem_madori\">1SK</span></li>\n",
       "<li><span class=\"cassetteitem_menseki\">22.35m<sup>2</sup></span></li>\n",
       "</ul>\n",
       "</td>\n",
       "<td>\n",
       "<ul class=\"cassetteitem-taglist\">\n",
       "<li><span class=\"cassetteitem-tag\">動画</span></li>\n",
       "</ul>\n",
       "</td>\n",
       "<td class=\"js-property\">\n",
       "<input class=\"js-clipkey\" type=\"hidden\" value=\"100342786314\"/>\n",
       "<a class=\"ui-btn ui-favorite cassette_favorite cassette_favorite--sm js-addMyList js-linkSuppresser\" href=\"javascript:void(0);\">\n",
       "<span class=\"ui-favorite-icon cassette_favorite-icon\"><span class=\"fr_list-eachicon fr_list-eachicon--favorite\"></span></span>\n",
       "<span class=\"ui-favorite-text\">追加</span>\n",
       "<span class=\"ui-favorite-icon_add cassette_favorite-icon_add\"><span class=\"fr_list-eachicon fr_list-eachicon--favorite_add\"></span></span>\n",
       "<span class=\"ui-favorite-text_add\">追加</span>\n",
       "</a>\n",
       "</td>\n",
       "<td class=\"ui-text--midium ui-text--bold\">\n",
       "<a class=\"js-cassette_link_href cassetteitem_other-linktext\" href=\"/chintai/jnc_000084693624/?bc=100342786314\" onclick=\"sendBeaconSiteCatalystClick(event,this,'click_casset_bkn_link',false);\" target=\"_blank\">詳細を見る</a></td>\n",
       "</tr>\n",
       "</tbody>\n",
       "<tbody>\n",
       "<tr class=\"js-cassette_link\">\n",
       "<td class=\"cassetteitem_other-checkbox js-cassetteitem_checkbox\">\n",
       "<input class=\"js-ikkatsuCB js-single_checkbox\" id=\"bukken_0\" name=\"bc\" type=\"checkbox\" value=\"100314581899\"/><label for=\"bc\"> </label>\n",
       "</td>\n",
       "<td>\n",
       "<div class=\"casssetteitem_other-thumbnail js-view_gallery_images js-noContextMenu\" data-imgs=\"https://img01.suumo.com/front/gazo/fr/bukken/899/100314581899/100314581899_go.jpg,https://img01.suumo.com/front/gazo/fr/bukken/899/100314581899/100314581899_co.jpg,https://img01.suumo.com/front/gazo/fr/bukken/899/100314581899/100314581899_ro.jpg,https://img01.suumo.com/front/gazo/fr/bukken/899/100314581899/100314581899_1o.jpg,https://img01.suumo.com/front/gazo/fr/bukken/899/100314581899/100314581899_2o.jpg,https://img01.suumo.com/front/gazo/fr/bukken/899/100314581899/100314581899_4o.jpg,https://img01.suumo.com/front/gazo/fr/bukken/899/100314581899/100314581899_6o.jpg,https://img01.suumo.com/front/gazo/fr/bukken/899/100314581899/100314581899_5o.jpg,https://img01.suumo.com/front/gazo/fr/bukken/899/100314581899/100314581899_3o.jpg,https://img01.suumo.com/front/gazo/fr/bukken/899/100314581899/100314581899_9o.jpg,https://img01.suumo.com/front/gazo/fr/bukken/899/100314581899/100314581899_8o.jpg,https://img01.suumo.com/front/gazo/fr/bukken/899/100314581899/100314581899_7o.jpg,https://img01.suumo.com/front/gazo/fr/bukken/899/100314581899/100314581899_11o.jpg,https://img01.suumo.com/front/gazo/fr/bukken/899/100314581899/100314581899_10o.jpg,https://img01.suumo.com/front/gazo/fr/bukken/899/100314581899/100314581899_s6o.jpg,https://img01.suumo.com/front/gazo/fr/bukken/899/100314581899/100314581899_s2o.jpg,https://img01.suumo.com/front/gazo/fr/bukken/899/100314581899/100314581899_s3o.jpg,https://img01.suumo.com/front/gazo/fr/bukken/899/100314581899/100314581899_s4o.jpg,https://img01.suumo.com/front/gazo/fr/bukken/899/100314581899/100314581899_s5o.jpg,https://img01.suumo.com/front/gazo/fr/bukken/899/100314581899/100314581899_s1o.jpg\">\n",
       "<img alt=\"\" class=\"casssetteitem_other-thumbnail-img casssetteitem_other-thumbnail-img--hasimages js-view_gallery-modal js-scrollLazy\" rel=\"https://img01.suumo.com/front/gazo/fr/bukken/899/100314581899/100314581899_co.jpg\" src=\"data:image/gif;base64,R0lGODlhAQABAIAAAAAAAAAAACH5BAEAAAAALAAAAAABAAEAAAICRAEAOw%3D%3D\"/>\n",
       "<span class=\"cassetteitem_other-thumbnail-expansion js-view_gallery-modal\"></span>\n",
       "</div>\n",
       "</td>\n",
       "<td>\n",
       "\t\t\t\t\t\t\t\t\t\t\t1階</td>\n",
       "<td>\n",
       "<ul>\n",
       "<li><span class=\"cassetteitem_price cassetteitem_price--rent\"><span class=\"cassetteitem_other-emphasis ui-text--bold\">13万円</span></span></li>\n",
       "<li><span class=\"cassetteitem_price cassetteitem_price--administration\">5000円</span></li>\n",
       "</ul>\n",
       "</td>\n",
       "<td>\n",
       "<ul>\n",
       "<li><span class=\"cassetteitem_price cassetteitem_price--deposit\">13万円</span></li>\n",
       "<li><span class=\"cassetteitem_price cassetteitem_price--gratuity\">13万円</span></li>\n",
       "</ul>\n",
       "</td>\n",
       "<td>\n",
       "<ul>\n",
       "<li><span class=\"cassetteitem_madori\">1LDK</span></li>\n",
       "<li><span class=\"cassetteitem_menseki\">30.64m<sup>2</sup></span></li>\n",
       "</ul>\n",
       "</td>\n",
       "<td>\n",
       "<ul class=\"cassetteitem-taglist\">\n",
       "</ul>\n",
       "</td>\n",
       "<td class=\"js-property\">\n",
       "<input class=\"js-clipkey\" type=\"hidden\" value=\"100314581899\"/>\n",
       "<a class=\"ui-btn ui-favorite cassette_favorite cassette_favorite--sm js-addMyList js-linkSuppresser\" href=\"javascript:void(0);\">\n",
       "<span class=\"ui-favorite-icon cassette_favorite-icon\"><span class=\"fr_list-eachicon fr_list-eachicon--favorite\"></span></span>\n",
       "<span class=\"ui-favorite-text\">追加</span>\n",
       "<span class=\"ui-favorite-icon_add cassette_favorite-icon_add\"><span class=\"fr_list-eachicon fr_list-eachicon--favorite_add\"></span></span>\n",
       "<span class=\"ui-favorite-text_add\">追加</span>\n",
       "</a>\n",
       "</td>\n",
       "<td class=\"ui-text--midium ui-text--bold\">\n",
       "<a class=\"js-cassette_link_href cassetteitem_other-linktext\" href=\"/chintai/jnc_000084693623/?bc=100314581899\" onclick=\"sendBeaconSiteCatalystClick(event,this,'click_casset_bkn_link',false);\" target=\"_blank\">詳細を見る</a></td>\n",
       "</tr>\n",
       "</tbody>\n",
       "</table>\n",
       "</div>\n",
       "</div>"
      ]
     },
     "execution_count": 7,
     "metadata": {},
     "output_type": "execute_result"
    }
   ],
   "source": [
    "content = contents[0]\n",
    "content"
   ]
  },
  {
   "cell_type": "markdown",
   "id": "e252c05a-c4fe-4271-a3c8-686915170603",
   "metadata": {},
   "source": [
    "物件情報\n",
    "・物件名\n",
    "・住所\n",
    "・アドレス\n",
    "・築年数\n",
    "部屋番号\n",
    "・物件の階数\n",
    "・物件の賃料/管理費\n",
    "・物件の敷金・礼金\n",
    "・物件の間取り・面積"
   ]
  },
  {
   "cell_type": "code",
   "execution_count": 8,
   "id": "a19f52e4-ead7-43ab-9995-2f53ba20ff99",
   "metadata": {
    "tags": []
   },
   "outputs": [],
   "source": [
    "#物件情報・建物情報を変数detailに格納する\n",
    "detail = content.find('div',class_ ='cassetteitem-detail')\n",
    "\n",
    "#各部屋の情報を変数tableに格納する\n",
    "table = content.find('table',class_ ='cassetteitem_other')"
   ]
  },
  {
   "cell_type": "code",
   "execution_count": 9,
   "id": "2977b3d9-bf50-44ff-b895-5bf4b91703bf",
   "metadata": {
    "tags": []
   },
   "outputs": [],
   "source": [
    "#変数titleに、物件名を格納する\n",
    "title = detail.find('div',class_='cassetteitem_content-title').text\n",
    "\n",
    "#変数adressに住所を格納する\n",
    "address = detail.find('li',class_='cassetteitem_detail-col1').text\n",
    "\n",
    "#変数accessにアクセス情報を格納する\n",
    "access = detail.find('li',class_='cassetteitem_detail-col2').text\n",
    "\n",
    "#変数ageに築年数を格納する\n",
    "age = detail.find('li',class_='cassetteitem_detail-col3').text\n"
   ]
  },
  {
   "cell_type": "code",
   "execution_count": 10,
   "id": "9c37b380-d2ff-448d-b213-26809c0cc9ef",
   "metadata": {
    "tags": []
   },
   "outputs": [
    {
     "data": {
      "text/plain": [
       "('My Style vintage早稲田',\n",
       " '東京都新宿区大久保２',\n",
       " '\\n東京メトロ副都心線/西早稲田駅 歩4分\\n都営大江戸線/東新宿駅 歩5分\\nＪＲ山手線/新大久保駅 歩13分\\n',\n",
       " '\\n築2年\\n3階建\\n')"
      ]
     },
     "execution_count": 10,
     "metadata": {},
     "output_type": "execute_result"
    }
   ],
   "source": [
    "#各変数の取得結果を確認\n",
    "title,address,access,age"
   ]
  },
  {
   "cell_type": "code",
   "execution_count": 11,
   "id": "d0165820-b2e0-482c-a129-dd57fa1b1cb7",
   "metadata": {
    "collapsed": true,
    "jupyter": {
     "outputs_hidden": true
    },
    "tags": []
   },
   "outputs": [
    {
     "data": {
      "text/plain": [
       "<table class=\"cassetteitem_other\">\n",
       "<thead>\n",
       "<tr>\n",
       "<th class=\"cassetteitem_other-col01\"> </th>\n",
       "<th class=\"cassetteitem_other-col02\"> </th>\n",
       "<th class=\"cassetteitem_other-col03\">階</th>\n",
       "<th class=\"cassetteitem_other-col04\">賃料/管理費</th>\n",
       "<th class=\"cassetteitem_other-col05\">敷金/礼金</th>\n",
       "<th class=\"cassetteitem_other-col06\">間取り/専有面積</th>\n",
       "<th class=\"cassetteitem_other-col07\"> </th>\n",
       "<th class=\"cassetteitem_other-col08\">お気に入り</th>\n",
       "<th class=\"cassetteitem_other-col09\"> </th>\n",
       "</tr>\n",
       "</thead>\n",
       "<tbody>\n",
       "<tr class=\"js-cassette_link\">\n",
       "<td class=\"cassetteitem_other-checkbox js-cassetteitem_checkbox\">\n",
       "<input class=\"js-ikkatsuCB js-single_checkbox\" id=\"bukken_0\" name=\"bc\" type=\"checkbox\" value=\"100342786314\"/><label for=\"bc\"> </label>\n",
       "</td>\n",
       "<td>\n",
       "<div class=\"casssetteitem_other-thumbnail js-view_gallery_images js-noContextMenu\" data-imgs=\"https://img01.suumo.com/front/gazo/fr/bukken/314/100342786314/100342786314_go.jpg,https://img01.suumo.com/front/gazo/fr/bukken/314/100342786314/100342786314_co.jpg,https://img01.suumo.com/front/gazo/fr/bukken/314/100342786314/100342786314_ro.jpg,https://img01.suumo.com/front/gazo/fr/bukken/314/100342786314/100342786314_1o.jpg,https://img01.suumo.com/front/gazo/fr/bukken/314/100342786314/100342786314_2o.jpg,https://img01.suumo.com/front/gazo/fr/bukken/314/100342786314/100342786314_3o.jpg,https://img01.suumo.com/front/gazo/fr/bukken/314/100342786314/100342786314_6o.jpg,https://img01.suumo.com/front/gazo/fr/bukken/314/100342786314/100342786314_4o.jpg,https://img01.suumo.com/front/gazo/fr/bukken/314/100342786314/100342786314_11o.jpg,https://img01.suumo.com/front/gazo/fr/bukken/314/100342786314/100342786314_8o.jpg,https://img01.suumo.com/front/gazo/fr/bukken/314/100342786314/100342786314_5o.jpg,https://img01.suumo.com/front/gazo/fr/bukken/314/100342786314/100342786314_9o.jpg,https://img01.suumo.com/front/gazo/fr/bukken/314/100342786314/100342786314_10o.jpg,https://img01.suumo.com/front/gazo/fr/bukken/314/100342786314/100342786314_s5o.jpg,https://img01.suumo.com/front/gazo/fr/bukken/314/100342786314/100342786314_s3o.jpg,https://img01.suumo.com/front/gazo/fr/bukken/314/100342786314/100342786314_7o.jpg,https://img01.suumo.com/front/gazo/fr/bukken/314/100342786314/100342786314_s1o.jpg,https://img01.suumo.com/front/gazo/fr/bukken/314/100342786314/100342786314_s2o.jpg,https://img01.suumo.com/front/gazo/fr/bukken/314/100342786314/100342786314_s4o.jpg,https://img01.suumo.com/front/gazo/fr/bukken/314/100342786314/100342786314_s6o.jpg\">\n",
       "<img alt=\"\" class=\"casssetteitem_other-thumbnail-img casssetteitem_other-thumbnail-img--hasimages js-view_gallery-modal js-scrollLazy\" rel=\"https://img01.suumo.com/front/gazo/fr/bukken/314/100342786314/100342786314_co.jpg\" src=\"data:image/gif;base64,R0lGODlhAQABAIAAAAAAAAAAACH5BAEAAAAALAAAAAABAAEAAAICRAEAOw%3D%3D\"/>\n",
       "<span class=\"cassetteitem_other-thumbnail-expansion js-view_gallery-modal\"></span>\n",
       "</div>\n",
       "</td>\n",
       "<td>\n",
       "\t\t\t\t\t\t\t\t\t\t\t1階</td>\n",
       "<td>\n",
       "<ul>\n",
       "<li><span class=\"cassetteitem_price cassetteitem_price--rent\"><span class=\"cassetteitem_other-emphasis ui-text--bold\">10.2万円</span></span></li>\n",
       "<li><span class=\"cassetteitem_price cassetteitem_price--administration\">5000円</span></li>\n",
       "</ul>\n",
       "</td>\n",
       "<td>\n",
       "<ul>\n",
       "<li><span class=\"cassetteitem_price cassetteitem_price--deposit\">10.2万円</span></li>\n",
       "<li><span class=\"cassetteitem_price cassetteitem_price--gratuity\">10.2万円</span></li>\n",
       "</ul>\n",
       "</td>\n",
       "<td>\n",
       "<ul>\n",
       "<li><span class=\"cassetteitem_madori\">1SK</span></li>\n",
       "<li><span class=\"cassetteitem_menseki\">22.35m<sup>2</sup></span></li>\n",
       "</ul>\n",
       "</td>\n",
       "<td>\n",
       "<ul class=\"cassetteitem-taglist\">\n",
       "<li><span class=\"cassetteitem-tag\">動画</span></li>\n",
       "</ul>\n",
       "</td>\n",
       "<td class=\"js-property\">\n",
       "<input class=\"js-clipkey\" type=\"hidden\" value=\"100342786314\"/>\n",
       "<a class=\"ui-btn ui-favorite cassette_favorite cassette_favorite--sm js-addMyList js-linkSuppresser\" href=\"javascript:void(0);\">\n",
       "<span class=\"ui-favorite-icon cassette_favorite-icon\"><span class=\"fr_list-eachicon fr_list-eachicon--favorite\"></span></span>\n",
       "<span class=\"ui-favorite-text\">追加</span>\n",
       "<span class=\"ui-favorite-icon_add cassette_favorite-icon_add\"><span class=\"fr_list-eachicon fr_list-eachicon--favorite_add\"></span></span>\n",
       "<span class=\"ui-favorite-text_add\">追加</span>\n",
       "</a>\n",
       "</td>\n",
       "<td class=\"ui-text--midium ui-text--bold\">\n",
       "<a class=\"js-cassette_link_href cassetteitem_other-linktext\" href=\"/chintai/jnc_000084693624/?bc=100342786314\" onclick=\"sendBeaconSiteCatalystClick(event,this,'click_casset_bkn_link',false);\" target=\"_blank\">詳細を見る</a></td>\n",
       "</tr>\n",
       "</tbody>\n",
       "<tbody>\n",
       "<tr class=\"js-cassette_link\">\n",
       "<td class=\"cassetteitem_other-checkbox js-cassetteitem_checkbox\">\n",
       "<input class=\"js-ikkatsuCB js-single_checkbox\" id=\"bukken_0\" name=\"bc\" type=\"checkbox\" value=\"100314581899\"/><label for=\"bc\"> </label>\n",
       "</td>\n",
       "<td>\n",
       "<div class=\"casssetteitem_other-thumbnail js-view_gallery_images js-noContextMenu\" data-imgs=\"https://img01.suumo.com/front/gazo/fr/bukken/899/100314581899/100314581899_go.jpg,https://img01.suumo.com/front/gazo/fr/bukken/899/100314581899/100314581899_co.jpg,https://img01.suumo.com/front/gazo/fr/bukken/899/100314581899/100314581899_ro.jpg,https://img01.suumo.com/front/gazo/fr/bukken/899/100314581899/100314581899_1o.jpg,https://img01.suumo.com/front/gazo/fr/bukken/899/100314581899/100314581899_2o.jpg,https://img01.suumo.com/front/gazo/fr/bukken/899/100314581899/100314581899_4o.jpg,https://img01.suumo.com/front/gazo/fr/bukken/899/100314581899/100314581899_6o.jpg,https://img01.suumo.com/front/gazo/fr/bukken/899/100314581899/100314581899_5o.jpg,https://img01.suumo.com/front/gazo/fr/bukken/899/100314581899/100314581899_3o.jpg,https://img01.suumo.com/front/gazo/fr/bukken/899/100314581899/100314581899_9o.jpg,https://img01.suumo.com/front/gazo/fr/bukken/899/100314581899/100314581899_8o.jpg,https://img01.suumo.com/front/gazo/fr/bukken/899/100314581899/100314581899_7o.jpg,https://img01.suumo.com/front/gazo/fr/bukken/899/100314581899/100314581899_11o.jpg,https://img01.suumo.com/front/gazo/fr/bukken/899/100314581899/100314581899_10o.jpg,https://img01.suumo.com/front/gazo/fr/bukken/899/100314581899/100314581899_s6o.jpg,https://img01.suumo.com/front/gazo/fr/bukken/899/100314581899/100314581899_s2o.jpg,https://img01.suumo.com/front/gazo/fr/bukken/899/100314581899/100314581899_s3o.jpg,https://img01.suumo.com/front/gazo/fr/bukken/899/100314581899/100314581899_s4o.jpg,https://img01.suumo.com/front/gazo/fr/bukken/899/100314581899/100314581899_s5o.jpg,https://img01.suumo.com/front/gazo/fr/bukken/899/100314581899/100314581899_s1o.jpg\">\n",
       "<img alt=\"\" class=\"casssetteitem_other-thumbnail-img casssetteitem_other-thumbnail-img--hasimages js-view_gallery-modal js-scrollLazy\" rel=\"https://img01.suumo.com/front/gazo/fr/bukken/899/100314581899/100314581899_co.jpg\" src=\"data:image/gif;base64,R0lGODlhAQABAIAAAAAAAAAAACH5BAEAAAAALAAAAAABAAEAAAICRAEAOw%3D%3D\"/>\n",
       "<span class=\"cassetteitem_other-thumbnail-expansion js-view_gallery-modal\"></span>\n",
       "</div>\n",
       "</td>\n",
       "<td>\n",
       "\t\t\t\t\t\t\t\t\t\t\t1階</td>\n",
       "<td>\n",
       "<ul>\n",
       "<li><span class=\"cassetteitem_price cassetteitem_price--rent\"><span class=\"cassetteitem_other-emphasis ui-text--bold\">13万円</span></span></li>\n",
       "<li><span class=\"cassetteitem_price cassetteitem_price--administration\">5000円</span></li>\n",
       "</ul>\n",
       "</td>\n",
       "<td>\n",
       "<ul>\n",
       "<li><span class=\"cassetteitem_price cassetteitem_price--deposit\">13万円</span></li>\n",
       "<li><span class=\"cassetteitem_price cassetteitem_price--gratuity\">13万円</span></li>\n",
       "</ul>\n",
       "</td>\n",
       "<td>\n",
       "<ul>\n",
       "<li><span class=\"cassetteitem_madori\">1LDK</span></li>\n",
       "<li><span class=\"cassetteitem_menseki\">30.64m<sup>2</sup></span></li>\n",
       "</ul>\n",
       "</td>\n",
       "<td>\n",
       "<ul class=\"cassetteitem-taglist\">\n",
       "</ul>\n",
       "</td>\n",
       "<td class=\"js-property\">\n",
       "<input class=\"js-clipkey\" type=\"hidden\" value=\"100314581899\"/>\n",
       "<a class=\"ui-btn ui-favorite cassette_favorite cassette_favorite--sm js-addMyList js-linkSuppresser\" href=\"javascript:void(0);\">\n",
       "<span class=\"ui-favorite-icon cassette_favorite-icon\"><span class=\"fr_list-eachicon fr_list-eachicon--favorite\"></span></span>\n",
       "<span class=\"ui-favorite-text\">追加</span>\n",
       "<span class=\"ui-favorite-icon_add cassette_favorite-icon_add\"><span class=\"fr_list-eachicon fr_list-eachicon--favorite_add\"></span></span>\n",
       "<span class=\"ui-favorite-text_add\">追加</span>\n",
       "</a>\n",
       "</td>\n",
       "<td class=\"ui-text--midium ui-text--bold\">\n",
       "<a class=\"js-cassette_link_href cassetteitem_other-linktext\" href=\"/chintai/jnc_000084693623/?bc=100314581899\" onclick=\"sendBeaconSiteCatalystClick(event,this,'click_casset_bkn_link',false);\" target=\"_blank\">詳細を見る</a></td>\n",
       "</tr>\n",
       "</tbody>\n",
       "</table>"
      ]
     },
     "execution_count": 11,
     "metadata": {},
     "output_type": "execute_result"
    }
   ],
   "source": [
    "table"
   ]
  },
  {
   "cell_type": "markdown",
   "id": "19e1493d-d579-49ba-a0ca-08d00c7b5bb9",
   "metadata": {},
   "source": [
    "部屋情報を抽出する\n",
    "・物件の階数\n",
    "・物件の賃料/管理費\n",
    "・物件の敷金・礼金\n",
    "・物件の間取り・面積\n",
    "\n",
    "各部屋の情報は<table>タグに囲まれているので<tr>を見てあげると１つの部屋情報になっている"
   ]
  },
  {
   "cell_type": "code",
   "execution_count": 12,
   "id": "992dd243-3355-41b3-b29e-d62e065a18bb",
   "metadata": {
    "tags": []
   },
   "outputs": [],
   "source": [
    "#変数tableからすべてのtrタグを取得して、変数tr_tagsに格納\n",
    "tr_tags = table.find_all('tr',class_='js-cassette_link')\n",
    "\n",
    "#tr_tagsの中から最初の１つだけtr_tagに格納\n",
    "tr_tag = tr_tags[0]"
   ]
  },
  {
   "cell_type": "markdown",
   "id": "8b5846ec-1c2d-4d19-91a2-6f12c2ac7cb4",
   "metadata": {},
   "source": [
    "変数tr_tagから、以下の情報を取得する\n",
    "・物件の階数\n",
    "・物件の賃料管理費\n",
    "・物件の敷金・礼金\n",
    "・物件の間取り・面積"
   ]
  },
  {
   "cell_type": "code",
   "execution_count": 13,
   "id": "bd089d3e-a04f-42c9-bd7a-2b8476ef31b5",
   "metadata": {
    "tags": []
   },
   "outputs": [],
   "source": [
    "#変数floor,price,first_fee.capacityに４つの情報を格納する\n",
    "#unpack\n",
    "floor,price,first_fee,capacity = tr_tag.find_all('td')[2:6]"
   ]
  },
  {
   "cell_type": "code",
   "execution_count": 14,
   "id": "0f04167b-e0cf-4ee1-a3fc-c1b35ce67268",
   "metadata": {
    "tags": []
   },
   "outputs": [
    {
     "data": {
      "text/plain": [
       "(<td>\n",
       " \t\t\t\t\t\t\t\t\t\t\t1階</td>,\n",
       " <td>\n",
       " <ul>\n",
       " <li><span class=\"cassetteitem_price cassetteitem_price--rent\"><span class=\"cassetteitem_other-emphasis ui-text--bold\">10.2万円</span></span></li>\n",
       " <li><span class=\"cassetteitem_price cassetteitem_price--administration\">5000円</span></li>\n",
       " </ul>\n",
       " </td>,\n",
       " <td>\n",
       " <ul>\n",
       " <li><span class=\"cassetteitem_price cassetteitem_price--deposit\">10.2万円</span></li>\n",
       " <li><span class=\"cassetteitem_price cassetteitem_price--gratuity\">10.2万円</span></li>\n",
       " </ul>\n",
       " </td>,\n",
       " <td>\n",
       " <ul>\n",
       " <li><span class=\"cassetteitem_madori\">1SK</span></li>\n",
       " <li><span class=\"cassetteitem_menseki\">22.35m<sup>2</sup></span></li>\n",
       " </ul>\n",
       " </td>)"
      ]
     },
     "execution_count": 14,
     "metadata": {},
     "output_type": "execute_result"
    }
   ],
   "source": [
    "#floor,price,first_fee,capacityの中身を確認する\n",
    "floor,price,first_fee,capacity"
   ]
  },
  {
   "cell_type": "code",
   "execution_count": 15,
   "id": "e403fa70-22bd-4b90-93b0-e92c969db81f",
   "metadata": {
    "tags": []
   },
   "outputs": [],
   "source": [
    "#unpack\n",
    "#変数feeとmanagement_feeに、賃料と管理費を格納する\n",
    "fee,management_fee = price.find_all('li')\n",
    "\n",
    "#変数depositとgratuity\n",
    "deposit,gratuity = first_fee.find_all('li')\n",
    "                                      \n",
    "#変数madoriとmensekiに、間取りと面積を格納する\n",
    "madori,menseki = capacity.find_all('li')                                      \n"
   ]
  },
  {
   "cell_type": "code",
   "execution_count": 16,
   "id": "4b721dc1-a666-4629-8478-49b3f632f66a",
   "metadata": {
    "tags": []
   },
   "outputs": [
    {
     "name": "stdout",
     "output_type": "stream",
     "text": [
      "<li><span class=\"cassetteitem_price cassetteitem_price--rent\"><span class=\"cassetteitem_other-emphasis ui-text--bold\">10.2万円</span></span></li>\n",
      "<li><span class=\"cassetteitem_price cassetteitem_price--administration\">5000円</span></li>\n",
      "\n",
      "<li><span class=\"cassetteitem_price cassetteitem_price--deposit\">10.2万円</span></li>\n",
      "<li><span class=\"cassetteitem_price cassetteitem_price--gratuity\">10.2万円</span></li>\n",
      "\n",
      "<li><span class=\"cassetteitem_madori\">1SK</span></li>\n",
      "<li><span class=\"cassetteitem_menseki\">22.35m<sup>2</sup></span></li>\n"
     ]
    }
   ],
   "source": [
    "print(fee)\n",
    "print(management_fee)\n",
    "print()\n",
    "\n",
    "print(deposit)\n",
    "print(gratuity)\n",
    "print()\n",
    "\n",
    "print(madori)\n",
    "print(menseki)"
   ]
  },
  {
   "cell_type": "markdown",
   "id": "06dd0c4e-ef04-4d2d-8e4e-9d7cd8814919",
   "metadata": {},
   "source": [
    "取得した情報を辞書に格納する\n",
    "・title\n",
    "・address\n",
    "・access\n",
    "・age\n",
    "・floor\n",
    "・fee\n",
    "・management_fee\n",
    "・deposit\n",
    "・gratuity\n",
    "・madori\n",
    "・menseki"
   ]
  },
  {
   "cell_type": "code",
   "execution_count": 18,
   "id": "89737d80-c6ee-4303-abbd-65249a053de0",
   "metadata": {
    "tags": []
   },
   "outputs": [],
   "source": [
    "d={\n",
    " 'title':title,\n",
    " 'address':address,\n",
    " 'access':access,\n",
    " 'age':age,\n",
    " 'floor':floor.text,\n",
    " 'fee':fee.text,\n",
    " 'management_fee':management_fee.text,\n",
    " 'deposit':deposit.text,\n",
    " 'gratuity':gratuity.text,\n",
    " 'madori':madori.text,\n",
    " 'menseki':menseki.text\n",
    "}    "
   ]
  },
  {
   "cell_type": "code",
   "execution_count": 19,
   "id": "5984e4af-0cff-48f9-92b9-81f3c8340a18",
   "metadata": {
    "tags": []
   },
   "outputs": [
    {
     "data": {
      "text/plain": [
       "{'title': 'My Style vintage早稲田',\n",
       " 'address': '東京都新宿区大久保２',\n",
       " 'access': '\\n東京メトロ副都心線/西早稲田駅 歩4分\\n都営大江戸線/東新宿駅 歩5分\\nＪＲ山手線/新大久保駅 歩13分\\n',\n",
       " 'age': '\\n築2年\\n3階建\\n',\n",
       " 'floor': '\\r\\n\\t\\t\\t\\t\\t\\t\\t\\t\\t\\t\\t1階',\n",
       " 'fee': '10.2万円',\n",
       " 'management_fee': '5000円',\n",
       " 'deposit': '10.2万円',\n",
       " 'gratuity': '10.2万円',\n",
       " 'madori': '1SK',\n",
       " 'menseki': '22.35m2'}"
      ]
     },
     "execution_count": 19,
     "metadata": {},
     "output_type": "execute_result"
    }
   ],
   "source": [
    "d"
   ]
  },
  {
   "cell_type": "markdown",
   "id": "a90125f3-28b4-489c-a888-20470091826c",
   "metadata": {
    "tags": []
   },
   "source": [
    "1ページ目からすべての情報を取得する\n",
    "forループをつかっていくので、それぞれの部屋情報を格納できるように、変数d_listという名前でリストを準備しておく"
   ]
  },
  {
   "cell_type": "code",
   "execution_count": 20,
   "id": "f7539274-b224-4f45-bcea-6b972fada82c",
   "metadata": {
    "tags": []
   },
   "outputs": [],
   "source": [
    "#変数d_listに空のリストを作成する\n",
    "d_list = []\n",
    "\n",
    "#すべての物件情報（20件）を取得する\n",
    "contents = soup.find_all('div',class_='cassetteitem')\n",
    "\n",
    "#各物件情報をforループで取得する\n",
    "for content in contents:\n",
    "    \n",
    "    #物件情報と部屋情報を取得しておく\n",
    "    detail = content.find('div',class_ ='cassetteitem-detail')\n",
    "    table = content.find('table',class_ ='cassetteitem_other')\n",
    "    \n",
    "    #物件情報から必要な情報を取得する\n",
    "    title = detail.find('div',class_='cassetteitem_content-title').text\n",
    "    address = detail.find('li',class_='cassetteitem_detail-col1').text\n",
    "    access = detail.find('li',class_='cassetteitem_detail-col2').text\n",
    "    age = detail.find('li',class_='cassetteitem_detail-col3').text\n",
    "    \n",
    "    #部屋情報のブロックから、各部屋情報を取得する\n",
    "    tr_tags = table.find_all('tr',class_='js-cassette_link')\n",
    "    \n",
    "    #部屋情報をforループで取得する\n",
    "    for tr_tag in tr_tags:\n",
    "        \n",
    "        #部屋情報の行から、欲しい情報を取得する\n",
    "        floor,price,first_fee,capacity = tr_tag.find_all('td')[2:6]\n",
    "        \n",
    "        #さらに細かい情報を取得する\n",
    "        fee,management_fee = price.find_all('li')\n",
    "        deposit,gratuity = first_fee.find_all('li')\n",
    "        madori,menseki = capacity.find_all('li')                                      \n",
    "        \n",
    "        #取得したすべての情報を辞書に格納する\n",
    "        d={\n",
    "         'title':title,\n",
    "         'address':address,\n",
    "         'access':access,\n",
    "         'age':age,\n",
    "         'floor':floor.text,\n",
    "         'fee':fee.text,\n",
    "         'management_fee':management_fee.text,\n",
    "         'deposit':deposit.text,\n",
    "         'gratuity':gratuity.text,\n",
    "         'madori':madori.text,\n",
    "         'menseki':menseki.text\n",
    "        }    \n",
    "        \n",
    "        #取得した辞書をd_listに格納する\n",
    "        d_list.append(d)\n",
    "        "
   ]
  },
  {
   "cell_type": "markdown",
   "id": "5289a371-f25a-4e0e-b604-d6eb79dad8fa",
   "metadata": {},
   "source": [
    "pandasでデータフレーム化を実施"
   ]
  },
  {
   "cell_type": "code",
   "execution_count": 21,
   "id": "8991f9ab-07d3-4e58-b2d2-98e771ba3954",
   "metadata": {
    "tags": []
   },
   "outputs": [],
   "source": [
    "import pandas as pd"
   ]
  },
  {
   "cell_type": "code",
   "execution_count": 22,
   "id": "fe23e694-a48a-4c72-8e2b-153ebbe1a0e5",
   "metadata": {
    "tags": []
   },
   "outputs": [],
   "source": [
    "df = pd.DataFrame(d_list)"
   ]
  },
  {
   "cell_type": "code",
   "execution_count": 23,
   "id": "7fc4edc8-b6e2-45e2-926f-d14d3af41aaf",
   "metadata": {
    "tags": []
   },
   "outputs": [
    {
     "data": {
      "text/html": [
       "<div>\n",
       "<style scoped>\n",
       "    .dataframe tbody tr th:only-of-type {\n",
       "        vertical-align: middle;\n",
       "    }\n",
       "\n",
       "    .dataframe tbody tr th {\n",
       "        vertical-align: top;\n",
       "    }\n",
       "\n",
       "    .dataframe thead th {\n",
       "        text-align: right;\n",
       "    }\n",
       "</style>\n",
       "<table border=\"1\" class=\"dataframe\">\n",
       "  <thead>\n",
       "    <tr style=\"text-align: right;\">\n",
       "      <th></th>\n",
       "      <th>title</th>\n",
       "      <th>address</th>\n",
       "      <th>access</th>\n",
       "      <th>age</th>\n",
       "      <th>floor</th>\n",
       "      <th>fee</th>\n",
       "      <th>management_fee</th>\n",
       "      <th>deposit</th>\n",
       "      <th>gratuity</th>\n",
       "      <th>madori</th>\n",
       "      <th>menseki</th>\n",
       "    </tr>\n",
       "  </thead>\n",
       "  <tbody>\n",
       "    <tr>\n",
       "      <th>0</th>\n",
       "      <td>My Style vintage早稲田</td>\n",
       "      <td>東京都新宿区大久保２</td>\n",
       "      <td>\\n東京メトロ副都心線/西早稲田駅 歩4分\\n都営大江戸線/東新宿駅 歩5分\\nＪＲ山手線/...</td>\n",
       "      <td>\\n築2年\\n3階建\\n</td>\n",
       "      <td>\\r\\n\\t\\t\\t\\t\\t\\t\\t\\t\\t\\t\\t1階</td>\n",
       "      <td>10.2万円</td>\n",
       "      <td>5000円</td>\n",
       "      <td>10.2万円</td>\n",
       "      <td>10.2万円</td>\n",
       "      <td>1SK</td>\n",
       "      <td>22.35m2</td>\n",
       "    </tr>\n",
       "    <tr>\n",
       "      <th>1</th>\n",
       "      <td>My Style vintage早稲田</td>\n",
       "      <td>東京都新宿区大久保２</td>\n",
       "      <td>\\n東京メトロ副都心線/西早稲田駅 歩4分\\n都営大江戸線/東新宿駅 歩5分\\nＪＲ山手線/...</td>\n",
       "      <td>\\n築2年\\n3階建\\n</td>\n",
       "      <td>\\r\\n\\t\\t\\t\\t\\t\\t\\t\\t\\t\\t\\t1階</td>\n",
       "      <td>13万円</td>\n",
       "      <td>5000円</td>\n",
       "      <td>13万円</td>\n",
       "      <td>13万円</td>\n",
       "      <td>1LDK</td>\n",
       "      <td>30.64m2</td>\n",
       "    </tr>\n",
       "    <tr>\n",
       "      <th>2</th>\n",
       "      <td>ドゥーエ早稲田</td>\n",
       "      <td>東京都新宿区西早稲田２</td>\n",
       "      <td>\\n東京メトロ東西線/早稲田駅 歩6分\\n東京メトロ副都心線/西早稲田駅 歩8分\\n都電荒川...</td>\n",
       "      <td>\\n築4年\\n地下1地上10階建\\n</td>\n",
       "      <td>\\r\\n\\t\\t\\t\\t\\t\\t\\t\\t\\t\\t\\t6階</td>\n",
       "      <td>16.3万円</td>\n",
       "      <td>10000円</td>\n",
       "      <td>16.3万円</td>\n",
       "      <td>16.3万円</td>\n",
       "      <td>1LDK</td>\n",
       "      <td>35.55m2</td>\n",
       "    </tr>\n",
       "    <tr>\n",
       "      <th>3</th>\n",
       "      <td>ドゥーエ早稲田</td>\n",
       "      <td>東京都新宿区西早稲田２</td>\n",
       "      <td>\\n東京メトロ東西線/早稲田駅 歩6分\\n東京メトロ副都心線/西早稲田駅 歩8分\\n都電荒川...</td>\n",
       "      <td>\\n築4年\\n地下1地上10階建\\n</td>\n",
       "      <td>\\r\\n\\t\\t\\t\\t\\t\\t\\t\\t\\t\\t\\t6階</td>\n",
       "      <td>16.3万円</td>\n",
       "      <td>10000円</td>\n",
       "      <td>16.3万円</td>\n",
       "      <td>16.3万円</td>\n",
       "      <td>1LDK</td>\n",
       "      <td>35.55m2</td>\n",
       "    </tr>\n",
       "    <tr>\n",
       "      <th>4</th>\n",
       "      <td>ドゥーエ早稲田</td>\n",
       "      <td>東京都新宿区西早稲田２</td>\n",
       "      <td>\\n東京メトロ東西線/早稲田駅 歩6分\\n東京メトロ副都心線/西早稲田駅 歩8分\\n都電荒川...</td>\n",
       "      <td>\\n築4年\\n地下1地上10階建\\n</td>\n",
       "      <td>\\r\\n\\t\\t\\t\\t\\t\\t\\t\\t\\t\\t\\t2階</td>\n",
       "      <td>17.8万円</td>\n",
       "      <td>10000円</td>\n",
       "      <td>17.8万円</td>\n",
       "      <td>17.8万円</td>\n",
       "      <td>1LDK</td>\n",
       "      <td>40m2</td>\n",
       "    </tr>\n",
       "    <tr>\n",
       "      <th>...</th>\n",
       "      <td>...</td>\n",
       "      <td>...</td>\n",
       "      <td>...</td>\n",
       "      <td>...</td>\n",
       "      <td>...</td>\n",
       "      <td>...</td>\n",
       "      <td>...</td>\n",
       "      <td>...</td>\n",
       "      <td>...</td>\n",
       "      <td>...</td>\n",
       "      <td>...</td>\n",
       "    </tr>\n",
       "    <tr>\n",
       "      <th>88</th>\n",
       "      <td>アーバネックス西新宿</td>\n",
       "      <td>東京都新宿区北新宿１</td>\n",
       "      <td>\\n東京メトロ丸ノ内線/西新宿駅 歩6分\\nＪＲ中央線/大久保駅 歩9分\\n西武新宿線/西武...</td>\n",
       "      <td>\\n築8年\\n13階建\\n</td>\n",
       "      <td>\\r\\n\\t\\t\\t\\t\\t\\t\\t\\t\\t\\t\\t12階</td>\n",
       "      <td>14.4万円</td>\n",
       "      <td>12000円</td>\n",
       "      <td>14.4万円</td>\n",
       "      <td>-</td>\n",
       "      <td>1LDK</td>\n",
       "      <td>28.59m2</td>\n",
       "    </tr>\n",
       "    <tr>\n",
       "      <th>89</th>\n",
       "      <td>アーバネックス西新宿</td>\n",
       "      <td>東京都新宿区北新宿１</td>\n",
       "      <td>\\n東京メトロ丸ノ内線/西新宿駅 歩6分\\nＪＲ中央線/大久保駅 歩9分\\n西武新宿線/西武...</td>\n",
       "      <td>\\n築8年\\n13階建\\n</td>\n",
       "      <td>\\r\\n\\t\\t\\t\\t\\t\\t\\t\\t\\t\\t\\t3階</td>\n",
       "      <td>15.2万円</td>\n",
       "      <td>12000円</td>\n",
       "      <td>15.2万円</td>\n",
       "      <td>-</td>\n",
       "      <td>1LDK</td>\n",
       "      <td>32.11m2</td>\n",
       "    </tr>\n",
       "    <tr>\n",
       "      <th>90</th>\n",
       "      <td>アーバネックス西新宿</td>\n",
       "      <td>東京都新宿区北新宿１</td>\n",
       "      <td>\\n東京メトロ丸ノ内線/西新宿駅 歩6分\\nＪＲ中央線/大久保駅 歩9分\\n西武新宿線/西武...</td>\n",
       "      <td>\\n築8年\\n13階建\\n</td>\n",
       "      <td>\\r\\n\\t\\t\\t\\t\\t\\t\\t\\t\\t\\t\\t3階</td>\n",
       "      <td>15.6万円</td>\n",
       "      <td>12000円</td>\n",
       "      <td>15.6万円</td>\n",
       "      <td>-</td>\n",
       "      <td>1LDK</td>\n",
       "      <td>32.11m2</td>\n",
       "    </tr>\n",
       "    <tr>\n",
       "      <th>91</th>\n",
       "      <td>アーバネックス西新宿</td>\n",
       "      <td>東京都新宿区北新宿１</td>\n",
       "      <td>\\n東京メトロ丸ノ内線/西新宿駅 歩6分\\nＪＲ中央線/大久保駅 歩9分\\n西武新宿線/西武...</td>\n",
       "      <td>\\n築8年\\n13階建\\n</td>\n",
       "      <td>\\r\\n\\t\\t\\t\\t\\t\\t\\t\\t\\t\\t\\t12階</td>\n",
       "      <td>20.4万円</td>\n",
       "      <td>12000円</td>\n",
       "      <td>20.4万円</td>\n",
       "      <td>-</td>\n",
       "      <td>1LDK</td>\n",
       "      <td>32.11m2</td>\n",
       "    </tr>\n",
       "    <tr>\n",
       "      <th>92</th>\n",
       "      <td>アーバネックス西新宿</td>\n",
       "      <td>東京都新宿区北新宿１</td>\n",
       "      <td>\\n東京メトロ丸ノ内線/西新宿駅 歩6分\\nＪＲ中央線/大久保駅 歩9分\\n西武新宿線/西武...</td>\n",
       "      <td>\\n築8年\\n13階建\\n</td>\n",
       "      <td>\\r\\n\\t\\t\\t\\t\\t\\t\\t\\t\\t\\t\\t12階</td>\n",
       "      <td>20.4万円</td>\n",
       "      <td>15000円</td>\n",
       "      <td>20.4万円</td>\n",
       "      <td>-</td>\n",
       "      <td>1LDK</td>\n",
       "      <td>43.84m2</td>\n",
       "    </tr>\n",
       "  </tbody>\n",
       "</table>\n",
       "<p>93 rows × 11 columns</p>\n",
       "</div>"
      ],
      "text/plain": [
       "                  title      address   \n",
       "0   My Style vintage早稲田   東京都新宿区大久保２  \\\n",
       "1   My Style vintage早稲田   東京都新宿区大久保２   \n",
       "2               ドゥーエ早稲田  東京都新宿区西早稲田２   \n",
       "3               ドゥーエ早稲田  東京都新宿区西早稲田２   \n",
       "4               ドゥーエ早稲田  東京都新宿区西早稲田２   \n",
       "..                  ...          ...   \n",
       "88           アーバネックス西新宿   東京都新宿区北新宿１   \n",
       "89           アーバネックス西新宿   東京都新宿区北新宿１   \n",
       "90           アーバネックス西新宿   東京都新宿区北新宿１   \n",
       "91           アーバネックス西新宿   東京都新宿区北新宿１   \n",
       "92           アーバネックス西新宿   東京都新宿区北新宿１   \n",
       "\n",
       "                                               access                 age   \n",
       "0   \\n東京メトロ副都心線/西早稲田駅 歩4分\\n都営大江戸線/東新宿駅 歩5分\\nＪＲ山手線/...        \\n築2年\\n3階建\\n  \\\n",
       "1   \\n東京メトロ副都心線/西早稲田駅 歩4分\\n都営大江戸線/東新宿駅 歩5分\\nＪＲ山手線/...        \\n築2年\\n3階建\\n   \n",
       "2   \\n東京メトロ東西線/早稲田駅 歩6分\\n東京メトロ副都心線/西早稲田駅 歩8分\\n都電荒川...  \\n築4年\\n地下1地上10階建\\n   \n",
       "3   \\n東京メトロ東西線/早稲田駅 歩6分\\n東京メトロ副都心線/西早稲田駅 歩8分\\n都電荒川...  \\n築4年\\n地下1地上10階建\\n   \n",
       "4   \\n東京メトロ東西線/早稲田駅 歩6分\\n東京メトロ副都心線/西早稲田駅 歩8分\\n都電荒川...  \\n築4年\\n地下1地上10階建\\n   \n",
       "..                                                ...                 ...   \n",
       "88  \\n東京メトロ丸ノ内線/西新宿駅 歩6分\\nＪＲ中央線/大久保駅 歩9分\\n西武新宿線/西武...       \\n築8年\\n13階建\\n   \n",
       "89  \\n東京メトロ丸ノ内線/西新宿駅 歩6分\\nＪＲ中央線/大久保駅 歩9分\\n西武新宿線/西武...       \\n築8年\\n13階建\\n   \n",
       "90  \\n東京メトロ丸ノ内線/西新宿駅 歩6分\\nＪＲ中央線/大久保駅 歩9分\\n西武新宿線/西武...       \\n築8年\\n13階建\\n   \n",
       "91  \\n東京メトロ丸ノ内線/西新宿駅 歩6分\\nＪＲ中央線/大久保駅 歩9分\\n西武新宿線/西武...       \\n築8年\\n13階建\\n   \n",
       "92  \\n東京メトロ丸ノ内線/西新宿駅 歩6分\\nＪＲ中央線/大久保駅 歩9分\\n西武新宿線/西武...       \\n築8年\\n13階建\\n   \n",
       "\n",
       "                            floor     fee management_fee deposit gratuity   \n",
       "0    \\r\\n\\t\\t\\t\\t\\t\\t\\t\\t\\t\\t\\t1階  10.2万円          5000円  10.2万円   10.2万円  \\\n",
       "1    \\r\\n\\t\\t\\t\\t\\t\\t\\t\\t\\t\\t\\t1階    13万円          5000円    13万円     13万円   \n",
       "2    \\r\\n\\t\\t\\t\\t\\t\\t\\t\\t\\t\\t\\t6階  16.3万円         10000円  16.3万円   16.3万円   \n",
       "3    \\r\\n\\t\\t\\t\\t\\t\\t\\t\\t\\t\\t\\t6階  16.3万円         10000円  16.3万円   16.3万円   \n",
       "4    \\r\\n\\t\\t\\t\\t\\t\\t\\t\\t\\t\\t\\t2階  17.8万円         10000円  17.8万円   17.8万円   \n",
       "..                            ...     ...            ...     ...      ...   \n",
       "88  \\r\\n\\t\\t\\t\\t\\t\\t\\t\\t\\t\\t\\t12階  14.4万円         12000円  14.4万円        -   \n",
       "89   \\r\\n\\t\\t\\t\\t\\t\\t\\t\\t\\t\\t\\t3階  15.2万円         12000円  15.2万円        -   \n",
       "90   \\r\\n\\t\\t\\t\\t\\t\\t\\t\\t\\t\\t\\t3階  15.6万円         12000円  15.6万円        -   \n",
       "91  \\r\\n\\t\\t\\t\\t\\t\\t\\t\\t\\t\\t\\t12階  20.4万円         12000円  20.4万円        -   \n",
       "92  \\r\\n\\t\\t\\t\\t\\t\\t\\t\\t\\t\\t\\t12階  20.4万円         15000円  20.4万円        -   \n",
       "\n",
       "   madori  menseki  \n",
       "0     1SK  22.35m2  \n",
       "1    1LDK  30.64m2  \n",
       "2    1LDK  35.55m2  \n",
       "3    1LDK  35.55m2  \n",
       "4    1LDK     40m2  \n",
       "..    ...      ...  \n",
       "88   1LDK  28.59m2  \n",
       "89   1LDK  32.11m2  \n",
       "90   1LDK  32.11m2  \n",
       "91   1LDK  32.11m2  \n",
       "92   1LDK  43.84m2  \n",
       "\n",
       "[93 rows x 11 columns]"
      ]
     },
     "execution_count": 23,
     "metadata": {},
     "output_type": "execute_result"
    }
   ],
   "source": [
    "df"
   ]
  },
  {
   "cell_type": "code",
   "execution_count": 24,
   "id": "fc0b2be6-522a-41c8-956f-e88bbe0b3da7",
   "metadata": {
    "tags": []
   },
   "outputs": [
    {
     "data": {
      "text/plain": [
       "'c:\\\\Users\\\\kouhei_shimakura\\\\Documents\\\\STEP3-TA\\\\TA'"
      ]
     },
     "execution_count": 24,
     "metadata": {},
     "output_type": "execute_result"
    }
   ],
   "source": [
    "pwd"
   ]
  }
 ],
 "metadata": {
  "kernelspec": {
   "display_name": "Python 3 (ipykernel)",
   "language": "python",
   "name": "python3"
  },
  "language_info": {
   "codemirror_mode": {
    "name": "ipython",
    "version": 3
   },
   "file_extension": ".py",
   "mimetype": "text/x-python",
   "name": "python",
   "nbconvert_exporter": "python",
   "pygments_lexer": "ipython3",
   "version": "3.10.9"
  }
 },
 "nbformat": 4,
 "nbformat_minor": 5
}
