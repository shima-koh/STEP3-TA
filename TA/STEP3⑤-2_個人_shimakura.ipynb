{
 "cells": [
  {
   "cell_type": "code",
   "execution_count": 98,
   "id": "19534794-c3fa-41e7-a961-9432b851127a",
   "metadata": {
    "collapsed": true,
    "jupyter": {
     "outputs_hidden": true
    },
    "tags": []
   },
   "outputs": [
    {
     "name": "stdout",
     "output_type": "stream",
     "text": [
      "Requirement already satisfied: gspread in c:\\users\\kouhei_shimakura\\appdata\\local\\programs\\python\\python310\\lib\\site-packages (5.11.1)\n",
      "Requirement already satisfied: google-auth>=1.12.0 in c:\\users\\kouhei_shimakura\\appdata\\local\\programs\\python\\python310\\lib\\site-packages (from gspread) (2.19.0)\n",
      "Requirement already satisfied: google-auth-oauthlib>=0.4.1 in c:\\users\\kouhei_shimakura\\appdata\\local\\programs\\python\\python310\\lib\\site-packages (from gspread) (1.0.0)\n",
      "Requirement already satisfied: rsa<5,>=3.1.4 in c:\\users\\kouhei_shimakura\\appdata\\local\\programs\\python\\python310\\lib\\site-packages (from google-auth>=1.12.0->gspread) (4.9)\n",
      "Requirement already satisfied: cachetools<6.0,>=2.0.0 in c:\\users\\kouhei_shimakura\\appdata\\local\\programs\\python\\python310\\lib\\site-packages (from google-auth>=1.12.0->gspread) (5.3.0)\n",
      "Requirement already satisfied: six>=1.9.0 in c:\\users\\kouhei_shimakura\\appdata\\local\\programs\\python\\python310\\lib\\site-packages (from google-auth>=1.12.0->gspread) (1.16.0)\n",
      "Requirement already satisfied: pyasn1-modules>=0.2.1 in c:\\users\\kouhei_shimakura\\appdata\\local\\programs\\python\\python310\\lib\\site-packages (from google-auth>=1.12.0->gspread) (0.3.0)\n",
      "Requirement already satisfied: urllib3<2.0 in c:\\users\\kouhei_shimakura\\appdata\\local\\programs\\python\\python310\\lib\\site-packages (from google-auth>=1.12.0->gspread) (1.26.16)\n",
      "Requirement already satisfied: requests-oauthlib>=0.7.0 in c:\\users\\kouhei_shimakura\\appdata\\local\\programs\\python\\python310\\lib\\site-packages (from google-auth-oauthlib>=0.4.1->gspread) (1.3.1)\n",
      "Requirement already satisfied: pyasn1<0.6.0,>=0.4.6 in c:\\users\\kouhei_shimakura\\appdata\\local\\programs\\python\\python310\\lib\\site-packages (from pyasn1-modules>=0.2.1->google-auth>=1.12.0->gspread) (0.5.0)\n",
      "Requirement already satisfied: requests>=2.0.0 in c:\\users\\kouhei_shimakura\\appdata\\local\\programs\\python\\python310\\lib\\site-packages (from requests-oauthlib>=0.7.0->google-auth-oauthlib>=0.4.1->gspread) (2.30.0)\n",
      "Requirement already satisfied: oauthlib>=3.0.0 in c:\\users\\kouhei_shimakura\\appdata\\local\\programs\\python\\python310\\lib\\site-packages (from requests-oauthlib>=0.7.0->google-auth-oauthlib>=0.4.1->gspread) (3.2.2)\n",
      "Requirement already satisfied: idna<4,>=2.5 in c:\\users\\kouhei_shimakura\\appdata\\local\\programs\\python\\python310\\lib\\site-packages (from requests>=2.0.0->requests-oauthlib>=0.7.0->google-auth-oauthlib>=0.4.1->gspread) (3.4)\n",
      "Requirement already satisfied: charset-normalizer<4,>=2 in c:\\users\\kouhei_shimakura\\appdata\\local\\programs\\python\\python310\\lib\\site-packages (from requests>=2.0.0->requests-oauthlib>=0.7.0->google-auth-oauthlib>=0.4.1->gspread) (3.1.0)\n",
      "Requirement already satisfied: certifi>=2017.4.17 in c:\\users\\kouhei_shimakura\\appdata\\local\\programs\\python\\python310\\lib\\site-packages (from requests>=2.0.0->requests-oauthlib>=0.7.0->google-auth-oauthlib>=0.4.1->gspread) (2023.5.7)\n"
     ]
    },
    {
     "name": "stderr",
     "output_type": "stream",
     "text": [
      "WARNING: Ignoring invalid distribution -rotobuf (c:\\users\\kouhei_shimakura\\appdata\\local\\programs\\python\\python310\\lib\\site-packages)\n",
      "WARNING: Ignoring invalid distribution -lotly (c:\\users\\kouhei_shimakura\\appdata\\local\\programs\\python\\python310\\lib\\site-packages)\n",
      "WARNING: Ignoring invalid distribution -rotobuf (c:\\users\\kouhei_shimakura\\appdata\\local\\programs\\python\\python310\\lib\\site-packages)\n",
      "WARNING: Ignoring invalid distribution -lotly (c:\\users\\kouhei_shimakura\\appdata\\local\\programs\\python\\python310\\lib\\site-packages)\n",
      "WARNING: Ignoring invalid distribution -rotobuf (c:\\users\\kouhei_shimakura\\appdata\\local\\programs\\python\\python310\\lib\\site-packages)\n",
      "WARNING: Ignoring invalid distribution -lotly (c:\\users\\kouhei_shimakura\\appdata\\local\\programs\\python\\python310\\lib\\site-packages)\n",
      "WARNING: Ignoring invalid distribution -rotobuf (c:\\users\\kouhei_shimakura\\appdata\\local\\programs\\python\\python310\\lib\\site-packages)\n",
      "WARNING: Ignoring invalid distribution -lotly (c:\\users\\kouhei_shimakura\\appdata\\local\\programs\\python\\python310\\lib\\site-packages)\n",
      "WARNING: Ignoring invalid distribution -rotobuf (c:\\users\\kouhei_shimakura\\appdata\\local\\programs\\python\\python310\\lib\\site-packages)\n",
      "WARNING: Ignoring invalid distribution -lotly (c:\\users\\kouhei_shimakura\\appdata\\local\\programs\\python\\python310\\lib\\site-packages)\n",
      "WARNING: Ignoring invalid distribution -rotobuf (c:\\users\\kouhei_shimakura\\appdata\\local\\programs\\python\\python310\\lib\\site-packages)\n",
      "WARNING: Ignoring invalid distribution -lotly (c:\\users\\kouhei_shimakura\\appdata\\local\\programs\\python\\python310\\lib\\site-packages)\n",
      "\n",
      "[notice] A new release of pip available: 22.3.1 -> 23.2.1\n",
      "[notice] To update, run: python.exe -m pip install --upgrade pip\n"
     ]
    },
    {
     "name": "stdout",
     "output_type": "stream",
     "text": [
      "Collecting gspread-dataframe\n",
      "  Downloading gspread_dataframe-3.3.1-py2.py3-none-any.whl (8.0 kB)\n",
      "Requirement already satisfied: pandas>=0.24.0 in c:\\users\\kouhei_shimakura\\appdata\\local\\programs\\python\\python310\\lib\\site-packages (from gspread-dataframe) (2.0.1)\n",
      "Requirement already satisfied: gspread>=3.0.0 in c:\\users\\kouhei_shimakura\\appdata\\local\\programs\\python\\python310\\lib\\site-packages (from gspread-dataframe) (5.11.1)\n",
      "Requirement already satisfied: six>=1.12.0 in c:\\users\\kouhei_shimakura\\appdata\\local\\programs\\python\\python310\\lib\\site-packages (from gspread-dataframe) (1.16.0)\n",
      "Requirement already satisfied: google-auth-oauthlib>=0.4.1 in c:\\users\\kouhei_shimakura\\appdata\\local\\programs\\python\\python310\\lib\\site-packages (from gspread>=3.0.0->gspread-dataframe) (1.0.0)\n",
      "Requirement already satisfied: google-auth>=1.12.0 in c:\\users\\kouhei_shimakura\\appdata\\local\\programs\\python\\python310\\lib\\site-packages (from gspread>=3.0.0->gspread-dataframe) (2.19.0)\n",
      "Requirement already satisfied: numpy>=1.21.0 in c:\\users\\kouhei_shimakura\\appdata\\local\\programs\\python\\python310\\lib\\site-packages (from pandas>=0.24.0->gspread-dataframe) (1.24.3)\n",
      "Requirement already satisfied: pytz>=2020.1 in c:\\users\\kouhei_shimakura\\appdata\\local\\programs\\python\\python310\\lib\\site-packages (from pandas>=0.24.0->gspread-dataframe) (2023.3)\n",
      "Requirement already satisfied: python-dateutil>=2.8.2 in c:\\users\\kouhei_shimakura\\appdata\\local\\programs\\python\\python310\\lib\\site-packages (from pandas>=0.24.0->gspread-dataframe) (2.8.2)\n",
      "Requirement already satisfied: tzdata>=2022.1 in c:\\users\\kouhei_shimakura\\appdata\\local\\programs\\python\\python310\\lib\\site-packages (from pandas>=0.24.0->gspread-dataframe) (2023.3)\n",
      "Requirement already satisfied: rsa<5,>=3.1.4 in c:\\users\\kouhei_shimakura\\appdata\\local\\programs\\python\\python310\\lib\\site-packages (from google-auth>=1.12.0->gspread>=3.0.0->gspread-dataframe) (4.9)\n",
      "Requirement already satisfied: pyasn1-modules>=0.2.1 in c:\\users\\kouhei_shimakura\\appdata\\local\\programs\\python\\python310\\lib\\site-packages (from google-auth>=1.12.0->gspread>=3.0.0->gspread-dataframe) (0.3.0)\n",
      "Requirement already satisfied: cachetools<6.0,>=2.0.0 in c:\\users\\kouhei_shimakura\\appdata\\local\\programs\\python\\python310\\lib\\site-packages (from google-auth>=1.12.0->gspread>=3.0.0->gspread-dataframe) (5.3.0)\n",
      "Requirement already satisfied: urllib3<2.0 in c:\\users\\kouhei_shimakura\\appdata\\local\\programs\\python\\python310\\lib\\site-packages (from google-auth>=1.12.0->gspread>=3.0.0->gspread-dataframe) (1.26.16)\n",
      "Requirement already satisfied: requests-oauthlib>=0.7.0 in c:\\users\\kouhei_shimakura\\appdata\\local\\programs\\python\\python310\\lib\\site-packages (from google-auth-oauthlib>=0.4.1->gspread>=3.0.0->gspread-dataframe) (1.3.1)\n",
      "Requirement already satisfied: pyasn1<0.6.0,>=0.4.6 in c:\\users\\kouhei_shimakura\\appdata\\local\\programs\\python\\python310\\lib\\site-packages (from pyasn1-modules>=0.2.1->google-auth>=1.12.0->gspread>=3.0.0->gspread-dataframe) (0.5.0)\n",
      "Requirement already satisfied: requests>=2.0.0 in c:\\users\\kouhei_shimakura\\appdata\\local\\programs\\python\\python310\\lib\\site-packages (from requests-oauthlib>=0.7.0->google-auth-oauthlib>=0.4.1->gspread>=3.0.0->gspread-dataframe) (2.30.0)\n",
      "Requirement already satisfied: oauthlib>=3.0.0 in c:\\users\\kouhei_shimakura\\appdata\\local\\programs\\python\\python310\\lib\\site-packages (from requests-oauthlib>=0.7.0->google-auth-oauthlib>=0.4.1->gspread>=3.0.0->gspread-dataframe) (3.2.2)\n",
      "Requirement already satisfied: charset-normalizer<4,>=2 in c:\\users\\kouhei_shimakura\\appdata\\local\\programs\\python\\python310\\lib\\site-packages (from requests>=2.0.0->requests-oauthlib>=0.7.0->google-auth-oauthlib>=0.4.1->gspread>=3.0.0->gspread-dataframe) (3.1.0)\n",
      "Requirement already satisfied: certifi>=2017.4.17 in c:\\users\\kouhei_shimakura\\appdata\\local\\programs\\python\\python310\\lib\\site-packages (from requests>=2.0.0->requests-oauthlib>=0.7.0->google-auth-oauthlib>=0.4.1->gspread>=3.0.0->gspread-dataframe) (2023.5.7)\n",
      "Requirement already satisfied: idna<4,>=2.5 in c:\\users\\kouhei_shimakura\\appdata\\local\\programs\\python\\python310\\lib\\site-packages (from requests>=2.0.0->requests-oauthlib>=0.7.0->google-auth-oauthlib>=0.4.1->gspread>=3.0.0->gspread-dataframe) (3.4)\n",
      "Installing collected packages: gspread-dataframe\n",
      "Successfully installed gspread-dataframe-3.3.1\n"
     ]
    },
    {
     "name": "stderr",
     "output_type": "stream",
     "text": [
      "WARNING: Ignoring invalid distribution -rotobuf (c:\\users\\kouhei_shimakura\\appdata\\local\\programs\\python\\python310\\lib\\site-packages)\n",
      "WARNING: Ignoring invalid distribution -lotly (c:\\users\\kouhei_shimakura\\appdata\\local\\programs\\python\\python310\\lib\\site-packages)\n",
      "WARNING: Ignoring invalid distribution -rotobuf (c:\\users\\kouhei_shimakura\\appdata\\local\\programs\\python\\python310\\lib\\site-packages)\n",
      "WARNING: Ignoring invalid distribution -lotly (c:\\users\\kouhei_shimakura\\appdata\\local\\programs\\python\\python310\\lib\\site-packages)\n",
      "WARNING: Ignoring invalid distribution -rotobuf (c:\\users\\kouhei_shimakura\\appdata\\local\\programs\\python\\python310\\lib\\site-packages)\n",
      "WARNING: Ignoring invalid distribution -lotly (c:\\users\\kouhei_shimakura\\appdata\\local\\programs\\python\\python310\\lib\\site-packages)\n",
      "WARNING: Ignoring invalid distribution -rotobuf (c:\\users\\kouhei_shimakura\\appdata\\local\\programs\\python\\python310\\lib\\site-packages)\n",
      "WARNING: Ignoring invalid distribution -lotly (c:\\users\\kouhei_shimakura\\appdata\\local\\programs\\python\\python310\\lib\\site-packages)\n",
      "WARNING: Ignoring invalid distribution -rotobuf (c:\\users\\kouhei_shimakura\\appdata\\local\\programs\\python\\python310\\lib\\site-packages)\n",
      "WARNING: Ignoring invalid distribution -lotly (c:\\users\\kouhei_shimakura\\appdata\\local\\programs\\python\\python310\\lib\\site-packages)\n",
      "WARNING: Ignoring invalid distribution -rotobuf (c:\\users\\kouhei_shimakura\\appdata\\local\\programs\\python\\python310\\lib\\site-packages)\n",
      "WARNING: Ignoring invalid distribution -lotly (c:\\users\\kouhei_shimakura\\appdata\\local\\programs\\python\\python310\\lib\\site-packages)\n",
      "WARNING: Ignoring invalid distribution -rotobuf (c:\\users\\kouhei_shimakura\\appdata\\local\\programs\\python\\python310\\lib\\site-packages)\n",
      "WARNING: Ignoring invalid distribution -lotly (c:\\users\\kouhei_shimakura\\appdata\\local\\programs\\python\\python310\\lib\\site-packages)\n",
      "\n",
      "[notice] A new release of pip available: 22.3.1 -> 23.2.1\n",
      "[notice] To update, run: python.exe -m pip install --upgrade pip\n"
     ]
    }
   ],
   "source": [
    "!pip install gspread\n",
    "!pip install gspread-dataframe"
   ]
  },
  {
   "cell_type": "code",
   "execution_count": 127,
   "id": "067ce70b-26e3-4807-b0b7-b06718d82d48",
   "metadata": {
    "tags": []
   },
   "outputs": [],
   "source": [
    "import requests\n",
    "from bs4 import BeautifulSoup\n",
    "import gspread \n",
    "from gspread_dataframe import set_with_dataframe\n",
    "from google.oauth2.service_account import Credentials\n",
    "import json"
   ]
  },
  {
   "cell_type": "markdown",
   "id": "cd0c7da8-7132-42d4-a374-86a62875e335",
   "metadata": {},
   "source": [
    "スプレッドシートと連携"
   ]
  },
  {
   "cell_type": "code",
   "execution_count": 100,
   "id": "49d1f9a0-89bc-4448-b813-2d7ec3bc5924",
   "metadata": {
    "tags": []
   },
   "outputs": [],
   "source": [
    "\n",
    "SP_CREDENTIAL_FILE=\"C:\\\\Users\\kouhei_shimakura\\\\楽天トラベルAPI\\\\Scraping\\\\gspread-test-399023-650ba3322327.json\"\n",
    "SP_COPE=[\n",
    "  'https://www.googleapis.com/auth/drive',\n",
    "  'https://spreadsheets.google.com/feeds'\n",
    "]\n",
    "SP_SHEET_KEY='1BzQ19jeu8m6hpW9MYXRCDM9Q8S5VhKWTQV-pL6a9ngI'\n",
    "SP_SHEET='shinjuku1'"
   ]
  },
  {
   "cell_type": "code",
   "execution_count": 101,
   "id": "4a549133-523b-43f0-b721-b46df0506b07",
   "metadata": {
    "tags": []
   },
   "outputs": [],
   "source": [
    "credentials = Credentials.from_service_account_file(SP_CREDENTIAL_FILE, scopes=SP_COPE)\n",
    "gc = gspread.authorize(credentials)"
   ]
  },
  {
   "cell_type": "markdown",
   "id": "cce31e5d-6b98-482b-bcb2-88933d150f7d",
   "metadata": {},
   "source": [
    "HTML取得"
   ]
  },
  {
   "cell_type": "code",
   "execution_count": 102,
   "id": "8042b8c5-209d-4bef-a90d-6f1c9c7881c2",
   "metadata": {
    "tags": []
   },
   "outputs": [
    {
     "name": "stdout",
     "output_type": "stream",
     "text": [
      "http://suumo.jp/chintai/tokyo/sc_shinjuku/?page=1\n"
     ]
    }
   ],
   "source": [
    "url = 'http://suumo.jp/chintai/tokyo/sc_shinjuku/?page={}'\n",
    "target_url = url.format(1)\n",
    "print(target_url)"
   ]
  },
  {
   "cell_type": "code",
   "execution_count": 103,
   "id": "5deee792-bced-48e4-b779-3245bd1edfa5",
   "metadata": {
    "tags": []
   },
   "outputs": [],
   "source": [
    "r = requests.get(target_url)\n",
    "soup = BeautifulSoup(r.text)"
   ]
  },
  {
   "cell_type": "code",
   "execution_count": 104,
   "id": "464310f1-660c-4cef-917b-c1553d09da2e",
   "metadata": {
    "tags": []
   },
   "outputs": [
    {
     "data": {
      "text/plain": [
       "<Response [200]>"
      ]
     },
     "execution_count": 104,
     "metadata": {},
     "output_type": "execute_result"
    }
   ],
   "source": [
    "r"
   ]
  },
  {
   "cell_type": "markdown",
   "id": "27982860-b20f-4370-8693-65c586521277",
   "metadata": {},
   "source": [
    "1ページあたりの物件情報を取得"
   ]
  },
  {
   "cell_type": "code",
   "execution_count": 105,
   "id": "15c2ab34-46ff-424b-8d65-3029826a0474",
   "metadata": {
    "tags": []
   },
   "outputs": [],
   "source": [
    "contents = soup.find_all('div',class_='cassetteitem')"
   ]
  },
  {
   "cell_type": "code",
   "execution_count": 106,
   "id": "9a7d6c80-bb86-4c2b-9cfc-1b5aae8ed51b",
   "metadata": {
    "tags": []
   },
   "outputs": [
    {
     "data": {
      "text/plain": [
       "20"
      ]
     },
     "execution_count": 106,
     "metadata": {},
     "output_type": "execute_result"
    }
   ],
   "source": [
    "len(contents)"
   ]
  },
  {
   "cell_type": "code",
   "execution_count": 107,
   "id": "dd9bc025-1699-4a70-9650-a089c34edcde",
   "metadata": {
    "collapsed": true,
    "jupyter": {
     "outputs_hidden": true
    },
    "tags": []
   },
   "outputs": [
    {
     "data": {
      "text/plain": [
       "<div class=\"cassetteitem\">\n",
       "<div class=\"cassetteitem-detail\">\n",
       "<div class=\"cassetteitem-detail-object\">\n",
       "<div class=\"cassetteitem_object\">\n",
       "<div class=\"cassetteitem_object-item\">\n",
       "<img alt=\"\" class=\"js-noContextMenu js-linkImage js-scrollLazy js-adjustImg\" height=\"0\" rel=\"https://img01.suumo.com/front/gazo/fr/bukken/590/100344780590/100344780590_gw.jpg\" src=\"data:image/gif;base64,R0lGODlhAQABAIAAAAAAAAAAACH5BAEAAAAALAAAAAABAAEAAAICRAEAOw%3D%3D\" width=\"0\"/>\n",
       "</div>\n",
       "</div>\n",
       "</div>\n",
       "<div class=\"cassetteitem-detail-body\">\n",
       "<div class=\"cassetteitem_content\">\n",
       "<div class=\"cassetteitem_content-label\"><span class=\"ui-pct ui-pct--util1\">賃貸マンション</span></div>\n",
       "<div class=\"cassetteitem_content-title\">フラッツ神楽坂</div>\n",
       "<div class=\"cassetteitem_content-body\">\n",
       "<ul class=\"cassetteitem_detail\">\n",
       "<li class=\"cassetteitem_detail-col1\">東京都新宿区矢来町</li>\n",
       "<li class=\"cassetteitem_detail-col2\">\n",
       "<div class=\"cassetteitem_detail-text\">東京メトロ東西線/神楽坂駅 歩2分</div>\n",
       "<div class=\"cassetteitem_detail-text\">都営大江戸線/牛込神楽坂駅 歩8分</div>\n",
       "<div class=\"cassetteitem_detail-text\">ＪＲ中央線/飯田橋駅 歩15分</div>\n",
       "</li>\n",
       "<li class=\"cassetteitem_detail-col3\">\n",
       "<div>築10年</div>\n",
       "<div>3階建</div>\n",
       "</li>\n",
       "</ul>\n",
       "</div>\n",
       "</div>\n",
       "</div>\n",
       "</div>\n",
       "<div class=\"cassetteitem-item\">\n",
       "<table class=\"cassetteitem_other\">\n",
       "<thead>\n",
       "<tr>\n",
       "<th class=\"cassetteitem_other-col01\"> </th>\n",
       "<th class=\"cassetteitem_other-col02\"> </th>\n",
       "<th class=\"cassetteitem_other-col03\">階</th>\n",
       "<th class=\"cassetteitem_other-col04\">賃料/管理費</th>\n",
       "<th class=\"cassetteitem_other-col05\">敷金/礼金</th>\n",
       "<th class=\"cassetteitem_other-col06\">間取り/専有面積</th>\n",
       "<th class=\"cassetteitem_other-col07\"> </th>\n",
       "<th class=\"cassetteitem_other-col08\">お気に入り</th>\n",
       "<th class=\"cassetteitem_other-col09\"> </th>\n",
       "</tr>\n",
       "</thead>\n",
       "<tbody>\n",
       "<tr class=\"js-cassette_link\">\n",
       "<td class=\"cassetteitem_other-checkbox cassetteitem_other-checkbox--newarrival js-cassetteitem_checkbox\">\n",
       "<input class=\"js-ikkatsuCB js-single_checkbox\" id=\"bukken_0\" name=\"bc\" type=\"checkbox\" value=\"100344780590\"/><label for=\"bc\"> </label>\n",
       "</td>\n",
       "<td>\n",
       "<div class=\"casssetteitem_other-thumbnail js-view_gallery_images js-noContextMenu\" data-imgs=\"https://img01.suumo.com/front/gazo/fr/bukken/590/100344780590/100344780590_go.jpg,https://img01.suumo.com/front/gazo/fr/bukken/590/100344780590/100344780590_co.jpg,https://img01.suumo.com/front/gazo/fr/bukken/590/100344780590/100344780590_4o.jpg,https://img01.suumo.com/front/gazo/fr/bukken/590/100344780590/100344780590_7o.jpg,https://img01.suumo.com/front/gazo/fr/bukken/590/100344780590/100344780590_1o.jpg,https://img01.suumo.com/front/gazo/fr/bukken/590/100344780590/100344780590_5o.jpg,https://img01.suumo.com/front/gazo/fr/bukken/590/100344780590/100344780590_2o.jpg,https://img01.suumo.com/front/gazo/fr/bukken/590/100344780590/100344780590_3o.jpg,https://img01.suumo.com/front/gazo/fr/bukken/590/100344780590/100344780590_6o.jpg,https://img01.suumo.com/front/gazo/fr/bukken/590/100344780590/100344780590_s3o.jpg,https://img01.suumo.com/front/gazo/fr/bukken/590/100344780590/100344780590_s1o.jpg,https://img01.suumo.com/front/gazo/fr/bukken/590/100344780590/100344780590_s2o.jpg,https://img01.suumo.com/front/gazo/fr/bukken/590/100344780590/100344780590_s6o.jpg,https://img01.suumo.com/front/gazo/fr/bukken/590/100344780590/100344780590_s5o.jpg,https://img01.suumo.com/front/gazo/fr/bukken/590/100344780590/100344780590_s4o.jpg\">\n",
       "<img alt=\"\" class=\"casssetteitem_other-thumbnail-img casssetteitem_other-thumbnail-img--hasimages js-view_gallery-modal js-scrollLazy\" rel=\"https://img01.suumo.com/front/gazo/fr/bukken/590/100344780590/100344780590_co.jpg\" src=\"data:image/gif;base64,R0lGODlhAQABAIAAAAAAAAAAACH5BAEAAAAALAAAAAABAAEAAAICRAEAOw%3D%3D\"/>\n",
       "<span class=\"cassetteitem_other-thumbnail-expansion js-view_gallery-modal\"></span>\n",
       "</div>\n",
       "</td>\n",
       "<td>\n",
       "\t\t\t\t\t\t\t\t\t\t\t1階</td>\n",
       "<td>\n",
       "<ul>\n",
       "<li><span class=\"cassetteitem_price cassetteitem_price--rent\"><span class=\"cassetteitem_other-emphasis ui-text--bold\">16万円</span></span></li>\n",
       "<li><span class=\"cassetteitem_price cassetteitem_price--administration\">2000円</span></li>\n",
       "</ul>\n",
       "</td>\n",
       "<td>\n",
       "<ul>\n",
       "<li><span class=\"cassetteitem_price cassetteitem_price--deposit\">16万円</span></li>\n",
       "<li><span class=\"cassetteitem_price cassetteitem_price--gratuity\">16万円</span></li>\n",
       "</ul>\n",
       "</td>\n",
       "<td>\n",
       "<ul>\n",
       "<li><span class=\"cassetteitem_madori\">2SLDK</span></li>\n",
       "<li><span class=\"cassetteitem_menseki\">61.73m<sup>2</sup></span></li>\n",
       "</ul>\n",
       "</td>\n",
       "<td>\n",
       "<ul class=\"cassetteitem-taglist\">\n",
       "<li><span class=\"cassetteitem-tag\">動画</span></li>\n",
       "<li><span class=\"cassetteitem-tag\">パノラマ</span></li>\n",
       "</ul>\n",
       "</td>\n",
       "<td class=\"js-property\">\n",
       "<input class=\"js-clipkey\" type=\"hidden\" value=\"100344780590\"/>\n",
       "<a class=\"ui-btn ui-favorite cassette_favorite cassette_favorite--sm js-addMyList js-linkSuppresser\" href=\"javascript:void(0);\">\n",
       "<span class=\"ui-favorite-icon cassette_favorite-icon\"><span class=\"fr_list-eachicon fr_list-eachicon--favorite\"></span></span>\n",
       "<span class=\"ui-favorite-text\">追加</span>\n",
       "<span class=\"ui-favorite-icon_add cassette_favorite-icon_add\"><span class=\"fr_list-eachicon fr_list-eachicon--favorite_add\"></span></span>\n",
       "<span class=\"ui-favorite-text_add\">追加</span>\n",
       "</a>\n",
       "</td>\n",
       "<td class=\"ui-text--midium ui-text--bold\">\n",
       "<a class=\"js-cassette_link_href cassetteitem_other-linktext\" href=\"/chintai/jnc_000085102032/?bc=100344780590\" onclick=\"sendBeaconSiteCatalystClick(event,this,'click_casset_bkn_link',false);\" target=\"_blank\">詳細を見る</a></td>\n",
       "</tr>\n",
       "</tbody>\n",
       "</table>\n",
       "</div>\n",
       "</div>"
      ]
     },
     "execution_count": 107,
     "metadata": {},
     "output_type": "execute_result"
    }
   ],
   "source": [
    "content = contents[0]\n",
    "content"
   ]
  },
  {
   "cell_type": "markdown",
   "id": "e252c05a-c4fe-4271-a3c8-686915170603",
   "metadata": {},
   "source": [
    "物件情報\n",
    "・物件名\n",
    "・住所\n",
    "・アドレス\n",
    "・築年数\n",
    "部屋番号\n",
    "・物件の階数\n",
    "・物件の賃料/管理費\n",
    "・物件の敷金・礼金\n",
    "・物件の間取り・面積"
   ]
  },
  {
   "cell_type": "code",
   "execution_count": 108,
   "id": "a19f52e4-ead7-43ab-9995-2f53ba20ff99",
   "metadata": {
    "tags": []
   },
   "outputs": [],
   "source": [
    "#物件情報・建物情報を変数detailに格納する\n",
    "detail = content.find('div',class_ ='cassetteitem-detail')\n",
    "\n",
    "#各部屋の情報を変数tableに格納する\n",
    "table = content.find('table',class_ ='cassetteitem_other')"
   ]
  },
  {
   "cell_type": "code",
   "execution_count": 109,
   "id": "2977b3d9-bf50-44ff-b895-5bf4b91703bf",
   "metadata": {
    "tags": []
   },
   "outputs": [],
   "source": [
    "#変数titleに、物件名を格納する\n",
    "title = detail.find('div',class_='cassetteitem_content-title').text\n",
    "\n",
    "#変数adressに住所を格納する\n",
    "address = detail.find('li',class_='cassetteitem_detail-col1').text\n",
    "\n",
    "#変数accessにアクセス情報を格納する\n",
    "access = detail.find('li',class_='cassetteitem_detail-col2').text\n",
    "\n",
    "#変数ageに築年数を格納する\n",
    "age = detail.find('li',class_='cassetteitem_detail-col3').text\n"
   ]
  },
  {
   "cell_type": "code",
   "execution_count": 110,
   "id": "9c37b380-d2ff-448d-b213-26809c0cc9ef",
   "metadata": {
    "tags": []
   },
   "outputs": [
    {
     "data": {
      "text/plain": [
       "('フラッツ神楽坂',\n",
       " '東京都新宿区矢来町',\n",
       " '\\n東京メトロ東西線/神楽坂駅 歩2分\\n都営大江戸線/牛込神楽坂駅 歩8分\\nＪＲ中央線/飯田橋駅 歩15分\\n',\n",
       " '\\n築10年\\n3階建\\n')"
      ]
     },
     "execution_count": 110,
     "metadata": {},
     "output_type": "execute_result"
    }
   ],
   "source": [
    "#各変数の取得結果を確認\n",
    "title,address,access,age"
   ]
  },
  {
   "cell_type": "code",
   "execution_count": 111,
   "id": "d0165820-b2e0-482c-a129-dd57fa1b1cb7",
   "metadata": {
    "collapsed": true,
    "jupyter": {
     "outputs_hidden": true
    },
    "tags": []
   },
   "outputs": [
    {
     "data": {
      "text/plain": [
       "<table class=\"cassetteitem_other\">\n",
       "<thead>\n",
       "<tr>\n",
       "<th class=\"cassetteitem_other-col01\"> </th>\n",
       "<th class=\"cassetteitem_other-col02\"> </th>\n",
       "<th class=\"cassetteitem_other-col03\">階</th>\n",
       "<th class=\"cassetteitem_other-col04\">賃料/管理費</th>\n",
       "<th class=\"cassetteitem_other-col05\">敷金/礼金</th>\n",
       "<th class=\"cassetteitem_other-col06\">間取り/専有面積</th>\n",
       "<th class=\"cassetteitem_other-col07\"> </th>\n",
       "<th class=\"cassetteitem_other-col08\">お気に入り</th>\n",
       "<th class=\"cassetteitem_other-col09\"> </th>\n",
       "</tr>\n",
       "</thead>\n",
       "<tbody>\n",
       "<tr class=\"js-cassette_link\">\n",
       "<td class=\"cassetteitem_other-checkbox cassetteitem_other-checkbox--newarrival js-cassetteitem_checkbox\">\n",
       "<input class=\"js-ikkatsuCB js-single_checkbox\" id=\"bukken_0\" name=\"bc\" type=\"checkbox\" value=\"100344780590\"/><label for=\"bc\"> </label>\n",
       "</td>\n",
       "<td>\n",
       "<div class=\"casssetteitem_other-thumbnail js-view_gallery_images js-noContextMenu\" data-imgs=\"https://img01.suumo.com/front/gazo/fr/bukken/590/100344780590/100344780590_go.jpg,https://img01.suumo.com/front/gazo/fr/bukken/590/100344780590/100344780590_co.jpg,https://img01.suumo.com/front/gazo/fr/bukken/590/100344780590/100344780590_4o.jpg,https://img01.suumo.com/front/gazo/fr/bukken/590/100344780590/100344780590_7o.jpg,https://img01.suumo.com/front/gazo/fr/bukken/590/100344780590/100344780590_1o.jpg,https://img01.suumo.com/front/gazo/fr/bukken/590/100344780590/100344780590_5o.jpg,https://img01.suumo.com/front/gazo/fr/bukken/590/100344780590/100344780590_2o.jpg,https://img01.suumo.com/front/gazo/fr/bukken/590/100344780590/100344780590_3o.jpg,https://img01.suumo.com/front/gazo/fr/bukken/590/100344780590/100344780590_6o.jpg,https://img01.suumo.com/front/gazo/fr/bukken/590/100344780590/100344780590_s3o.jpg,https://img01.suumo.com/front/gazo/fr/bukken/590/100344780590/100344780590_s1o.jpg,https://img01.suumo.com/front/gazo/fr/bukken/590/100344780590/100344780590_s2o.jpg,https://img01.suumo.com/front/gazo/fr/bukken/590/100344780590/100344780590_s6o.jpg,https://img01.suumo.com/front/gazo/fr/bukken/590/100344780590/100344780590_s5o.jpg,https://img01.suumo.com/front/gazo/fr/bukken/590/100344780590/100344780590_s4o.jpg\">\n",
       "<img alt=\"\" class=\"casssetteitem_other-thumbnail-img casssetteitem_other-thumbnail-img--hasimages js-view_gallery-modal js-scrollLazy\" rel=\"https://img01.suumo.com/front/gazo/fr/bukken/590/100344780590/100344780590_co.jpg\" src=\"data:image/gif;base64,R0lGODlhAQABAIAAAAAAAAAAACH5BAEAAAAALAAAAAABAAEAAAICRAEAOw%3D%3D\"/>\n",
       "<span class=\"cassetteitem_other-thumbnail-expansion js-view_gallery-modal\"></span>\n",
       "</div>\n",
       "</td>\n",
       "<td>\n",
       "\t\t\t\t\t\t\t\t\t\t\t1階</td>\n",
       "<td>\n",
       "<ul>\n",
       "<li><span class=\"cassetteitem_price cassetteitem_price--rent\"><span class=\"cassetteitem_other-emphasis ui-text--bold\">16万円</span></span></li>\n",
       "<li><span class=\"cassetteitem_price cassetteitem_price--administration\">2000円</span></li>\n",
       "</ul>\n",
       "</td>\n",
       "<td>\n",
       "<ul>\n",
       "<li><span class=\"cassetteitem_price cassetteitem_price--deposit\">16万円</span></li>\n",
       "<li><span class=\"cassetteitem_price cassetteitem_price--gratuity\">16万円</span></li>\n",
       "</ul>\n",
       "</td>\n",
       "<td>\n",
       "<ul>\n",
       "<li><span class=\"cassetteitem_madori\">2SLDK</span></li>\n",
       "<li><span class=\"cassetteitem_menseki\">61.73m<sup>2</sup></span></li>\n",
       "</ul>\n",
       "</td>\n",
       "<td>\n",
       "<ul class=\"cassetteitem-taglist\">\n",
       "<li><span class=\"cassetteitem-tag\">動画</span></li>\n",
       "<li><span class=\"cassetteitem-tag\">パノラマ</span></li>\n",
       "</ul>\n",
       "</td>\n",
       "<td class=\"js-property\">\n",
       "<input class=\"js-clipkey\" type=\"hidden\" value=\"100344780590\"/>\n",
       "<a class=\"ui-btn ui-favorite cassette_favorite cassette_favorite--sm js-addMyList js-linkSuppresser\" href=\"javascript:void(0);\">\n",
       "<span class=\"ui-favorite-icon cassette_favorite-icon\"><span class=\"fr_list-eachicon fr_list-eachicon--favorite\"></span></span>\n",
       "<span class=\"ui-favorite-text\">追加</span>\n",
       "<span class=\"ui-favorite-icon_add cassette_favorite-icon_add\"><span class=\"fr_list-eachicon fr_list-eachicon--favorite_add\"></span></span>\n",
       "<span class=\"ui-favorite-text_add\">追加</span>\n",
       "</a>\n",
       "</td>\n",
       "<td class=\"ui-text--midium ui-text--bold\">\n",
       "<a class=\"js-cassette_link_href cassetteitem_other-linktext\" href=\"/chintai/jnc_000085102032/?bc=100344780590\" onclick=\"sendBeaconSiteCatalystClick(event,this,'click_casset_bkn_link',false);\" target=\"_blank\">詳細を見る</a></td>\n",
       "</tr>\n",
       "</tbody>\n",
       "</table>"
      ]
     },
     "execution_count": 111,
     "metadata": {},
     "output_type": "execute_result"
    }
   ],
   "source": [
    "table"
   ]
  },
  {
   "cell_type": "markdown",
   "id": "19e1493d-d579-49ba-a0ca-08d00c7b5bb9",
   "metadata": {},
   "source": [
    "部屋情報を抽出する\n",
    "・物件の階数\n",
    "・物件の賃料/管理費\n",
    "・物件の敷金・礼金\n",
    "・物件の間取り・面積\n",
    "\n",
    "各部屋の情報は<table>タグに囲まれているので<tr>を見てあげると１つの部屋情報になっている"
   ]
  },
  {
   "cell_type": "code",
   "execution_count": 112,
   "id": "992dd243-3355-41b3-b29e-d62e065a18bb",
   "metadata": {
    "tags": []
   },
   "outputs": [],
   "source": [
    "#変数tableからすべてのtrタグを取得して、変数tr_tagsに格納\n",
    "tr_tags = table.find_all('tr',class_='js-cassette_link')\n",
    "\n",
    "#tr_tagsの中から最初の１つだけtr_tagに格納\n",
    "tr_tag = tr_tags[0]"
   ]
  },
  {
   "cell_type": "markdown",
   "id": "8b5846ec-1c2d-4d19-91a2-6f12c2ac7cb4",
   "metadata": {},
   "source": [
    "変数tr_tagから、以下の情報を取得する\n",
    "・物件の階数\n",
    "・物件の賃料管理費\n",
    "・物件の敷金・礼金\n",
    "・物件の間取り・面積"
   ]
  },
  {
   "cell_type": "code",
   "execution_count": 113,
   "id": "bd089d3e-a04f-42c9-bd7a-2b8476ef31b5",
   "metadata": {
    "tags": []
   },
   "outputs": [],
   "source": [
    "#変数floor,price,first_fee.capacityに４つの情報を格納する\n",
    "#unpack\n",
    "floor,price,first_fee,capacity = tr_tag.find_all('td')[2:6]"
   ]
  },
  {
   "cell_type": "code",
   "execution_count": 114,
   "id": "0f04167b-e0cf-4ee1-a3fc-c1b35ce67268",
   "metadata": {
    "tags": []
   },
   "outputs": [
    {
     "data": {
      "text/plain": [
       "(<td>\n",
       " \t\t\t\t\t\t\t\t\t\t\t1階</td>,\n",
       " <td>\n",
       " <ul>\n",
       " <li><span class=\"cassetteitem_price cassetteitem_price--rent\"><span class=\"cassetteitem_other-emphasis ui-text--bold\">16万円</span></span></li>\n",
       " <li><span class=\"cassetteitem_price cassetteitem_price--administration\">2000円</span></li>\n",
       " </ul>\n",
       " </td>,\n",
       " <td>\n",
       " <ul>\n",
       " <li><span class=\"cassetteitem_price cassetteitem_price--deposit\">16万円</span></li>\n",
       " <li><span class=\"cassetteitem_price cassetteitem_price--gratuity\">16万円</span></li>\n",
       " </ul>\n",
       " </td>,\n",
       " <td>\n",
       " <ul>\n",
       " <li><span class=\"cassetteitem_madori\">2SLDK</span></li>\n",
       " <li><span class=\"cassetteitem_menseki\">61.73m<sup>2</sup></span></li>\n",
       " </ul>\n",
       " </td>)"
      ]
     },
     "execution_count": 114,
     "metadata": {},
     "output_type": "execute_result"
    }
   ],
   "source": [
    "#floor,price,first_fee,capacityの中身を確認する\n",
    "floor,price,first_fee,capacity"
   ]
  },
  {
   "cell_type": "code",
   "execution_count": 115,
   "id": "e403fa70-22bd-4b90-93b0-e92c969db81f",
   "metadata": {
    "tags": []
   },
   "outputs": [],
   "source": [
    "#unpack\n",
    "#変数feeとmanagement_feeに、賃料と管理費を格納する\n",
    "fee,management_fee = price.find_all('li')\n",
    "\n",
    "#変数depositとgratuity\n",
    "deposit,gratuity = first_fee.find_all('li')\n",
    "                                      \n",
    "#変数madoriとmensekiに、間取りと面積を格納する\n",
    "madori,menseki = capacity.find_all('li')                                      \n"
   ]
  },
  {
   "cell_type": "code",
   "execution_count": 116,
   "id": "4b721dc1-a666-4629-8478-49b3f632f66a",
   "metadata": {
    "tags": []
   },
   "outputs": [
    {
     "name": "stdout",
     "output_type": "stream",
     "text": [
      "<li><span class=\"cassetteitem_price cassetteitem_price--rent\"><span class=\"cassetteitem_other-emphasis ui-text--bold\">16万円</span></span></li>\n",
      "<li><span class=\"cassetteitem_price cassetteitem_price--administration\">2000円</span></li>\n",
      "\n",
      "<li><span class=\"cassetteitem_price cassetteitem_price--deposit\">16万円</span></li>\n",
      "<li><span class=\"cassetteitem_price cassetteitem_price--gratuity\">16万円</span></li>\n",
      "\n",
      "<li><span class=\"cassetteitem_madori\">2SLDK</span></li>\n",
      "<li><span class=\"cassetteitem_menseki\">61.73m<sup>2</sup></span></li>\n"
     ]
    }
   ],
   "source": [
    "print(fee)\n",
    "print(management_fee)\n",
    "print()\n",
    "\n",
    "print(deposit)\n",
    "print(gratuity)\n",
    "print()\n",
    "\n",
    "print(madori)\n",
    "print(menseki)"
   ]
  },
  {
   "cell_type": "markdown",
   "id": "06dd0c4e-ef04-4d2d-8e4e-9d7cd8814919",
   "metadata": {},
   "source": [
    "取得した情報を辞書に格納する\n",
    "・title\n",
    "・address\n",
    "・access\n",
    "・age\n",
    "・floor\n",
    "・fee\n",
    "・management_fee\n",
    "・deposit\n",
    "・gratuity\n",
    "・madori\n",
    "・menseki"
   ]
  },
  {
   "cell_type": "code",
   "execution_count": 117,
   "id": "89737d80-c6ee-4303-abbd-65249a053de0",
   "metadata": {
    "tags": []
   },
   "outputs": [],
   "source": [
    "d={\n",
    " 'title':title,\n",
    " 'address':address,\n",
    " 'access':access,\n",
    " 'age':age,\n",
    " 'floor':floor.text,\n",
    " 'fee':fee.text,\n",
    " 'management_fee':management_fee.text,\n",
    " 'deposit':deposit.text,\n",
    " 'gratuity':gratuity.text,\n",
    " 'madori':madori.text,\n",
    " 'menseki':menseki.text\n",
    "}    "
   ]
  },
  {
   "cell_type": "code",
   "execution_count": 118,
   "id": "5984e4af-0cff-48f9-92b9-81f3c8340a18",
   "metadata": {
    "tags": []
   },
   "outputs": [
    {
     "data": {
      "text/plain": [
       "{'title': 'フラッツ神楽坂',\n",
       " 'address': '東京都新宿区矢来町',\n",
       " 'access': '\\n東京メトロ東西線/神楽坂駅 歩2分\\n都営大江戸線/牛込神楽坂駅 歩8分\\nＪＲ中央線/飯田橋駅 歩15分\\n',\n",
       " 'age': '\\n築10年\\n3階建\\n',\n",
       " 'floor': '\\r\\n\\t\\t\\t\\t\\t\\t\\t\\t\\t\\t\\t1階',\n",
       " 'fee': '16万円',\n",
       " 'management_fee': '2000円',\n",
       " 'deposit': '16万円',\n",
       " 'gratuity': '16万円',\n",
       " 'madori': '2SLDK',\n",
       " 'menseki': '61.73m2'}"
      ]
     },
     "execution_count": 118,
     "metadata": {},
     "output_type": "execute_result"
    }
   ],
   "source": [
    "d"
   ]
  },
  {
   "cell_type": "markdown",
   "id": "a90125f3-28b4-489c-a888-20470091826c",
   "metadata": {
    "tags": []
   },
   "source": [
    "1ページ目からすべての情報を取得する\n",
    "forループをつかっていくので、それぞれの部屋情報を格納できるように、変数d_listという名前でリストを準備しておく"
   ]
  },
  {
   "cell_type": "code",
   "execution_count": 119,
   "id": "f7539274-b224-4f45-bcea-6b972fada82c",
   "metadata": {
    "tags": []
   },
   "outputs": [],
   "source": [
    "#変数d_listに空のリストを作成する\n",
    "d_list = []\n",
    "\n",
    "#すべての物件情報（20件）を取得する\n",
    "contents = soup.find_all('div',class_='cassetteitem')\n",
    "\n",
    "#各物件情報をforループで取得する\n",
    "for content in contents:\n",
    "    \n",
    "    #物件情報と部屋情報を取得しておく\n",
    "    detail = content.find('div',class_ ='cassetteitem-detail')\n",
    "    table = content.find('table',class_ ='cassetteitem_other')\n",
    "    \n",
    "    #物件情報から必要な情報を取得する\n",
    "    title = detail.find('div',class_='cassetteitem_content-title').text\n",
    "    address = detail.find('li',class_='cassetteitem_detail-col1').text\n",
    "    access = detail.find('li',class_='cassetteitem_detail-col2').text\n",
    "    age = detail.find('li',class_='cassetteitem_detail-col3').text\n",
    "    \n",
    "    #部屋情報のブロックから、各部屋情報を取得する\n",
    "    tr_tags = table.find_all('tr',class_='js-cassette_link')\n",
    "    \n",
    "    #部屋情報をforループで取得する\n",
    "    for tr_tag in tr_tags:\n",
    "        \n",
    "        #部屋情報の行から、欲しい情報を取得する\n",
    "        floor,price,first_fee,capacity = tr_tag.find_all('td')[2:6]\n",
    "        \n",
    "        #さらに細かい情報を取得する\n",
    "        fee,management_fee = price.find_all('li')\n",
    "        deposit,gratuity = first_fee.find_all('li')\n",
    "        madori,menseki = capacity.find_all('li')                                      \n",
    "        \n",
    "        #取得したすべての情報を辞書に格納する\n",
    "        d={\n",
    "         'title':title,\n",
    "         'address':address,\n",
    "         'access':access,\n",
    "         'age':age,\n",
    "         'floor':floor.text,\n",
    "         'fee':fee.text,\n",
    "         'management_fee':management_fee.text,\n",
    "         'deposit':deposit.text,\n",
    "         'gratuity':gratuity.text,\n",
    "         'madori':madori.text,\n",
    "         'menseki':menseki.text\n",
    "        }    \n",
    "        \n",
    "        #取得した辞書をd_listに格納する\n",
    "        d_list.append(d)\n",
    "        "
   ]
  },
  {
   "cell_type": "markdown",
   "id": "5289a371-f25a-4e0e-b604-d6eb79dad8fa",
   "metadata": {},
   "source": [
    "pandasでデータフレーム化を実施"
   ]
  },
  {
   "cell_type": "code",
   "execution_count": 120,
   "id": "8991f9ab-07d3-4e58-b2d2-98e771ba3954",
   "metadata": {
    "tags": []
   },
   "outputs": [],
   "source": [
    "import pandas as pd"
   ]
  },
  {
   "cell_type": "code",
   "execution_count": 121,
   "id": "fe23e694-a48a-4c72-8e2b-153ebbe1a0e5",
   "metadata": {
    "tags": []
   },
   "outputs": [],
   "source": [
    "df = pd.DataFrame(d_list)"
   ]
  },
  {
   "cell_type": "code",
   "execution_count": 122,
   "id": "7fc4edc8-b6e2-45e2-926f-d14d3af41aaf",
   "metadata": {
    "tags": []
   },
   "outputs": [
    {
     "data": {
      "text/html": [
       "<div>\n",
       "<style scoped>\n",
       "    .dataframe tbody tr th:only-of-type {\n",
       "        vertical-align: middle;\n",
       "    }\n",
       "\n",
       "    .dataframe tbody tr th {\n",
       "        vertical-align: top;\n",
       "    }\n",
       "\n",
       "    .dataframe thead th {\n",
       "        text-align: right;\n",
       "    }\n",
       "</style>\n",
       "<table border=\"1\" class=\"dataframe\">\n",
       "  <thead>\n",
       "    <tr style=\"text-align: right;\">\n",
       "      <th></th>\n",
       "      <th>title</th>\n",
       "      <th>address</th>\n",
       "      <th>access</th>\n",
       "      <th>age</th>\n",
       "      <th>floor</th>\n",
       "      <th>fee</th>\n",
       "      <th>management_fee</th>\n",
       "      <th>deposit</th>\n",
       "      <th>gratuity</th>\n",
       "      <th>madori</th>\n",
       "      <th>menseki</th>\n",
       "    </tr>\n",
       "  </thead>\n",
       "  <tbody>\n",
       "    <tr>\n",
       "      <th>0</th>\n",
       "      <td>フラッツ神楽坂</td>\n",
       "      <td>東京都新宿区矢来町</td>\n",
       "      <td>\\n東京メトロ東西線/神楽坂駅 歩2分\\n都営大江戸線/牛込神楽坂駅 歩8分\\nＪＲ中央線/...</td>\n",
       "      <td>\\n築10年\\n3階建\\n</td>\n",
       "      <td>\\r\\n\\t\\t\\t\\t\\t\\t\\t\\t\\t\\t\\t1階</td>\n",
       "      <td>16万円</td>\n",
       "      <td>2000円</td>\n",
       "      <td>16万円</td>\n",
       "      <td>16万円</td>\n",
       "      <td>2SLDK</td>\n",
       "      <td>61.73m2</td>\n",
       "    </tr>\n",
       "    <tr>\n",
       "      <th>1</th>\n",
       "      <td>THE CENTER TOKYO</td>\n",
       "      <td>東京都新宿区市谷本村町</td>\n",
       "      <td>\\n都営新宿線/曙橋駅 歩5分\\nＪＲ中央線/市ケ谷駅 歩15分\\n都営大江戸線/牛込柳町駅...</td>\n",
       "      <td>\\n築16年\\n地下2地上38階建\\n</td>\n",
       "      <td>\\r\\n\\t\\t\\t\\t\\t\\t\\t\\t\\t\\t\\t16階</td>\n",
       "      <td>39万円</td>\n",
       "      <td>20000円</td>\n",
       "      <td>39万円</td>\n",
       "      <td>39万円</td>\n",
       "      <td>3LDK</td>\n",
       "      <td>84.77m2</td>\n",
       "    </tr>\n",
       "    <tr>\n",
       "      <th>2</th>\n",
       "      <td>THE CENTER TOKYO</td>\n",
       "      <td>東京都新宿区市谷本村町</td>\n",
       "      <td>\\n都営新宿線/曙橋駅 歩5分\\nＪＲ中央線/市ケ谷駅 歩15分\\n都営大江戸線/牛込柳町駅...</td>\n",
       "      <td>\\n築16年\\n地下2地上38階建\\n</td>\n",
       "      <td>\\r\\n\\t\\t\\t\\t\\t\\t\\t\\t\\t\\t\\t29階</td>\n",
       "      <td>42万円</td>\n",
       "      <td>-</td>\n",
       "      <td>84万円</td>\n",
       "      <td>42万円</td>\n",
       "      <td>1SLDK</td>\n",
       "      <td>87.14m2</td>\n",
       "    </tr>\n",
       "    <tr>\n",
       "      <th>3</th>\n",
       "      <td>ザ・パークハウス新宿柏木</td>\n",
       "      <td>東京都新宿区北新宿３</td>\n",
       "      <td>\\nＪＲ中央線/大久保駅 歩3分\\nＪＲ山手線/新大久保駅 歩7分\\n西武新宿線/西武新宿駅...</td>\n",
       "      <td>\\n築12年\\n13階建\\n</td>\n",
       "      <td>\\r\\n\\t\\t\\t\\t\\t\\t\\t\\t\\t\\t\\t2階</td>\n",
       "      <td>23万円</td>\n",
       "      <td>10000円</td>\n",
       "      <td>23万円</td>\n",
       "      <td>23万円</td>\n",
       "      <td>2LDK</td>\n",
       "      <td>52.52m2</td>\n",
       "    </tr>\n",
       "    <tr>\n",
       "      <th>4</th>\n",
       "      <td>ザ・パークハウス新宿柏木</td>\n",
       "      <td>東京都新宿区北新宿３</td>\n",
       "      <td>\\nＪＲ中央線/大久保駅 歩3分\\nＪＲ山手線/新大久保駅 歩7分\\n西武新宿線/西武新宿駅...</td>\n",
       "      <td>\\n築12年\\n13階建\\n</td>\n",
       "      <td>\\r\\n\\t\\t\\t\\t\\t\\t\\t\\t\\t\\t\\t1階</td>\n",
       "      <td>29.5万円</td>\n",
       "      <td>15000円</td>\n",
       "      <td>29.5万円</td>\n",
       "      <td>29.5万円</td>\n",
       "      <td>3LDK</td>\n",
       "      <td>71.31m2</td>\n",
       "    </tr>\n",
       "    <tr>\n",
       "      <th>...</th>\n",
       "      <td>...</td>\n",
       "      <td>...</td>\n",
       "      <td>...</td>\n",
       "      <td>...</td>\n",
       "      <td>...</td>\n",
       "      <td>...</td>\n",
       "      <td>...</td>\n",
       "      <td>...</td>\n",
       "      <td>...</td>\n",
       "      <td>...</td>\n",
       "      <td>...</td>\n",
       "    </tr>\n",
       "    <tr>\n",
       "      <th>170</th>\n",
       "      <td>都営大江戸線 西新宿五丁目駅 地下2地上60階建 築7年</td>\n",
       "      <td>東京都新宿区西新宿５</td>\n",
       "      <td>\\n都営大江戸線/西新宿五丁目駅 歩7分\\n東京メトロ丸ノ内線/西新宿駅 歩9分\\n都営大江...</td>\n",
       "      <td>\\n築7年\\n地下2地上60階建\\n</td>\n",
       "      <td>\\r\\n\\t\\t\\t\\t\\t\\t\\t\\t\\t\\t\\t56階</td>\n",
       "      <td>48.5万円</td>\n",
       "      <td>10000円</td>\n",
       "      <td>97万円</td>\n",
       "      <td>48.5万円</td>\n",
       "      <td>2LDK</td>\n",
       "      <td>89.31m2</td>\n",
       "    </tr>\n",
       "    <tr>\n",
       "      <th>171</th>\n",
       "      <td>都営大江戸線 西新宿五丁目駅 地下2地上60階建 築7年</td>\n",
       "      <td>東京都新宿区西新宿５</td>\n",
       "      <td>\\n都営大江戸線/西新宿五丁目駅 歩7分\\n東京メトロ丸ノ内線/西新宿駅 歩9分\\n都営大江...</td>\n",
       "      <td>\\n築7年\\n地下2地上60階建\\n</td>\n",
       "      <td>\\r\\n\\t\\t\\t\\t\\t\\t\\t\\t\\t\\t\\t56階</td>\n",
       "      <td>48.5万円</td>\n",
       "      <td>10000円</td>\n",
       "      <td>97万円</td>\n",
       "      <td>48.5万円</td>\n",
       "      <td>2LDK</td>\n",
       "      <td>89.31m2</td>\n",
       "    </tr>\n",
       "    <tr>\n",
       "      <th>172</th>\n",
       "      <td>都営大江戸線 西新宿五丁目駅 地下2地上60階建 築7年</td>\n",
       "      <td>東京都新宿区西新宿５</td>\n",
       "      <td>\\n都営大江戸線/西新宿五丁目駅 歩7分\\n東京メトロ丸ノ内線/西新宿駅 歩9分\\n都営大江...</td>\n",
       "      <td>\\n築7年\\n地下2地上60階建\\n</td>\n",
       "      <td>\\r\\n\\t\\t\\t\\t\\t\\t\\t\\t\\t\\t\\t52階</td>\n",
       "      <td>48万円</td>\n",
       "      <td>20000円</td>\n",
       "      <td>48万円</td>\n",
       "      <td>48万円</td>\n",
       "      <td>3SLDK</td>\n",
       "      <td>89.86m2</td>\n",
       "    </tr>\n",
       "    <tr>\n",
       "      <th>173</th>\n",
       "      <td>パークハウス牛込北町</td>\n",
       "      <td>東京都新宿区北町</td>\n",
       "      <td>\\n都営大江戸線/牛込神楽坂駅 歩4分\\n東京メトロ東西線/神楽坂駅 歩10分\\nＪＲ総武線...</td>\n",
       "      <td>\\n築13年\\n5階建\\n</td>\n",
       "      <td>\\r\\n\\t\\t\\t\\t\\t\\t\\t\\t\\t\\t\\t2階</td>\n",
       "      <td>20.9万円</td>\n",
       "      <td>10000円</td>\n",
       "      <td>20.9万円</td>\n",
       "      <td>20.9万円</td>\n",
       "      <td>1LDK</td>\n",
       "      <td>43m2</td>\n",
       "    </tr>\n",
       "    <tr>\n",
       "      <th>174</th>\n",
       "      <td>La Gracia 四谷</td>\n",
       "      <td>東京都新宿区荒木町</td>\n",
       "      <td>\\n東京メトロ丸ノ内線/四谷三丁目駅 歩3分\\n都営新宿線/曙橋駅 歩6分\\nＪＲ中央線/四...</td>\n",
       "      <td>\\n築1年\\n10階建\\n</td>\n",
       "      <td>\\r\\n\\t\\t\\t\\t\\t\\t\\t\\t\\t\\t\\t5階</td>\n",
       "      <td>18.1万円</td>\n",
       "      <td>11500円</td>\n",
       "      <td>-</td>\n",
       "      <td>18.1万円</td>\n",
       "      <td>1LDK</td>\n",
       "      <td>40.45m2</td>\n",
       "    </tr>\n",
       "  </tbody>\n",
       "</table>\n",
       "<p>175 rows × 11 columns</p>\n",
       "</div>"
      ],
      "text/plain": [
       "                            title      address   \n",
       "0                         フラッツ神楽坂    東京都新宿区矢来町  \\\n",
       "1                THE CENTER TOKYO  東京都新宿区市谷本村町   \n",
       "2                THE CENTER TOKYO  東京都新宿区市谷本村町   \n",
       "3                    ザ・パークハウス新宿柏木   東京都新宿区北新宿３   \n",
       "4                    ザ・パークハウス新宿柏木   東京都新宿区北新宿３   \n",
       "..                            ...          ...   \n",
       "170  都営大江戸線 西新宿五丁目駅 地下2地上60階建 築7年   東京都新宿区西新宿５   \n",
       "171  都営大江戸線 西新宿五丁目駅 地下2地上60階建 築7年   東京都新宿区西新宿５   \n",
       "172  都営大江戸線 西新宿五丁目駅 地下2地上60階建 築7年   東京都新宿区西新宿５   \n",
       "173                    パークハウス牛込北町     東京都新宿区北町   \n",
       "174                  La Gracia 四谷    東京都新宿区荒木町   \n",
       "\n",
       "                                                access                  age   \n",
       "0    \\n東京メトロ東西線/神楽坂駅 歩2分\\n都営大江戸線/牛込神楽坂駅 歩8分\\nＪＲ中央線/...        \\n築10年\\n3階建\\n  \\\n",
       "1    \\n都営新宿線/曙橋駅 歩5分\\nＪＲ中央線/市ケ谷駅 歩15分\\n都営大江戸線/牛込柳町駅...  \\n築16年\\n地下2地上38階建\\n   \n",
       "2    \\n都営新宿線/曙橋駅 歩5分\\nＪＲ中央線/市ケ谷駅 歩15分\\n都営大江戸線/牛込柳町駅...  \\n築16年\\n地下2地上38階建\\n   \n",
       "3    \\nＪＲ中央線/大久保駅 歩3分\\nＪＲ山手線/新大久保駅 歩7分\\n西武新宿線/西武新宿駅...       \\n築12年\\n13階建\\n   \n",
       "4    \\nＪＲ中央線/大久保駅 歩3分\\nＪＲ山手線/新大久保駅 歩7分\\n西武新宿線/西武新宿駅...       \\n築12年\\n13階建\\n   \n",
       "..                                                 ...                  ...   \n",
       "170  \\n都営大江戸線/西新宿五丁目駅 歩7分\\n東京メトロ丸ノ内線/西新宿駅 歩9分\\n都営大江...   \\n築7年\\n地下2地上60階建\\n   \n",
       "171  \\n都営大江戸線/西新宿五丁目駅 歩7分\\n東京メトロ丸ノ内線/西新宿駅 歩9分\\n都営大江...   \\n築7年\\n地下2地上60階建\\n   \n",
       "172  \\n都営大江戸線/西新宿五丁目駅 歩7分\\n東京メトロ丸ノ内線/西新宿駅 歩9分\\n都営大江...   \\n築7年\\n地下2地上60階建\\n   \n",
       "173  \\n都営大江戸線/牛込神楽坂駅 歩4分\\n東京メトロ東西線/神楽坂駅 歩10分\\nＪＲ総武線...        \\n築13年\\n5階建\\n   \n",
       "174  \\n東京メトロ丸ノ内線/四谷三丁目駅 歩3分\\n都営新宿線/曙橋駅 歩6分\\nＪＲ中央線/四...        \\n築1年\\n10階建\\n   \n",
       "\n",
       "                             floor     fee management_fee deposit gratuity   \n",
       "0     \\r\\n\\t\\t\\t\\t\\t\\t\\t\\t\\t\\t\\t1階    16万円          2000円    16万円     16万円  \\\n",
       "1    \\r\\n\\t\\t\\t\\t\\t\\t\\t\\t\\t\\t\\t16階    39万円         20000円    39万円     39万円   \n",
       "2    \\r\\n\\t\\t\\t\\t\\t\\t\\t\\t\\t\\t\\t29階    42万円              -    84万円     42万円   \n",
       "3     \\r\\n\\t\\t\\t\\t\\t\\t\\t\\t\\t\\t\\t2階    23万円         10000円    23万円     23万円   \n",
       "4     \\r\\n\\t\\t\\t\\t\\t\\t\\t\\t\\t\\t\\t1階  29.5万円         15000円  29.5万円   29.5万円   \n",
       "..                             ...     ...            ...     ...      ...   \n",
       "170  \\r\\n\\t\\t\\t\\t\\t\\t\\t\\t\\t\\t\\t56階  48.5万円         10000円    97万円   48.5万円   \n",
       "171  \\r\\n\\t\\t\\t\\t\\t\\t\\t\\t\\t\\t\\t56階  48.5万円         10000円    97万円   48.5万円   \n",
       "172  \\r\\n\\t\\t\\t\\t\\t\\t\\t\\t\\t\\t\\t52階    48万円         20000円    48万円     48万円   \n",
       "173   \\r\\n\\t\\t\\t\\t\\t\\t\\t\\t\\t\\t\\t2階  20.9万円         10000円  20.9万円   20.9万円   \n",
       "174   \\r\\n\\t\\t\\t\\t\\t\\t\\t\\t\\t\\t\\t5階  18.1万円         11500円       -   18.1万円   \n",
       "\n",
       "    madori  menseki  \n",
       "0    2SLDK  61.73m2  \n",
       "1     3LDK  84.77m2  \n",
       "2    1SLDK  87.14m2  \n",
       "3     2LDK  52.52m2  \n",
       "4     3LDK  71.31m2  \n",
       "..     ...      ...  \n",
       "170   2LDK  89.31m2  \n",
       "171   2LDK  89.31m2  \n",
       "172  3SLDK  89.86m2  \n",
       "173   1LDK     43m2  \n",
       "174   1LDK  40.45m2  \n",
       "\n",
       "[175 rows x 11 columns]"
      ]
     },
     "execution_count": 122,
     "metadata": {},
     "output_type": "execute_result"
    }
   ],
   "source": [
    "df"
   ]
  },
  {
   "cell_type": "code",
   "execution_count": 123,
   "id": "fc0b2be6-522a-41c8-956f-e88bbe0b3da7",
   "metadata": {
    "tags": []
   },
   "outputs": [
    {
     "data": {
      "text/plain": [
       "'C:\\\\Users\\\\kouhei_shimakura\\\\楽天トラベルAPI\\\\Scraping'"
      ]
     },
     "execution_count": 123,
     "metadata": {},
     "output_type": "execute_result"
    }
   ],
   "source": [
    "pwd"
   ]
  },
  {
   "cell_type": "code",
   "execution_count": 124,
   "id": "cac38d6f-ea3f-4227-9ce3-fb6b2eb6908f",
   "metadata": {
    "tags": []
   },
   "outputs": [
    {
     "data": {
      "text/plain": [
       "(175, 11)"
      ]
     },
     "execution_count": 124,
     "metadata": {},
     "output_type": "execute_result"
    }
   ],
   "source": [
    "df.shape"
   ]
  },
  {
   "cell_type": "code",
   "execution_count": 125,
   "id": "2beba5ba-a675-46ae-9d56-a7f0416ad9e0",
   "metadata": {
    "tags": []
   },
   "outputs": [],
   "source": [
    "#df.to_csv('shinjuku1.csv',index=None,encoding='utf-8-sig')"
   ]
  },
  {
   "cell_type": "code",
   "execution_count": 126,
   "id": "802ebd17-2751-4462-b571-936b5f8c19ff",
   "metadata": {
    "tags": []
   },
   "outputs": [],
   "source": [
    "import re\n",
    "\n",
    "def extract_number(s):\n",
    "    if not isinstance(s, str):  # 文字列でない場合はそのまま返す\n",
    "        return s\n",
    "\n",
    "    match = re.search(r'([\\d.]+)', s)\n",
    "\n",
    "    if match is None:\n",
    "        return None\n",
    "\n",
    "    value = match.group(1)\n",
    "\n",
    "    if '万' in s:\n",
    "        return float(value) * 10000\n",
    "\n",
    "    return float(value)\n",
    "\n",
    "\n",
    "\n",
    "columns_to_modify = ['fee', 'management_fee', 'deposit', 'gratuity', 'menseki']\n",
    "\n",
    "for col in columns_to_modify:\n",
    "    df[col] = df[col].apply(extract_number)\n",
    "\n",
    "# madoriは少し異なるので別途処理\n",
    "def extract_madori(s):\n",
    "    rooms = re.findall(r'(\\d)[SLDK]', s)\n",
    "    return int(rooms[0]) if rooms else None\n",
    "\n",
    "df['madori'] = df['madori'].apply(extract_madori)\n"
   ]
  },
  {
   "cell_type": "code",
   "execution_count": 133,
   "id": "aa0f182b-f606-43a7-9112-e1277df9a1d0",
   "metadata": {
    "tags": []
   },
   "outputs": [
    {
     "data": {
      "text/html": [
       "<div>\n",
       "<style scoped>\n",
       "    .dataframe tbody tr th:only-of-type {\n",
       "        vertical-align: middle;\n",
       "    }\n",
       "\n",
       "    .dataframe tbody tr th {\n",
       "        vertical-align: top;\n",
       "    }\n",
       "\n",
       "    .dataframe thead th {\n",
       "        text-align: right;\n",
       "    }\n",
       "</style>\n",
       "<table border=\"1\" class=\"dataframe\">\n",
       "  <thead>\n",
       "    <tr style=\"text-align: right;\">\n",
       "      <th></th>\n",
       "      <th>title</th>\n",
       "      <th>address</th>\n",
       "      <th>access</th>\n",
       "      <th>age</th>\n",
       "      <th>floor</th>\n",
       "      <th>fee</th>\n",
       "      <th>management_fee</th>\n",
       "      <th>deposit</th>\n",
       "      <th>gratuity</th>\n",
       "      <th>madori</th>\n",
       "      <th>menseki</th>\n",
       "    </tr>\n",
       "  </thead>\n",
       "  <tbody>\n",
       "    <tr>\n",
       "      <th>0</th>\n",
       "      <td>フラッツ神楽坂</td>\n",
       "      <td>東京都新宿区矢来町</td>\n",
       "      <td>\\n東京メトロ東西線/神楽坂駅 歩2分\\n都営大江戸線/牛込神楽坂駅 歩8分\\nＪＲ中央線/...</td>\n",
       "      <td>\\n築10年\\n3階建\\n</td>\n",
       "      <td>\\r\\n\\t\\t\\t\\t\\t\\t\\t\\t\\t\\t\\t1階</td>\n",
       "      <td>160000.0</td>\n",
       "      <td>2000.0</td>\n",
       "      <td>160000.0</td>\n",
       "      <td>160000.0</td>\n",
       "      <td>2.0</td>\n",
       "      <td>61.73</td>\n",
       "    </tr>\n",
       "    <tr>\n",
       "      <th>1</th>\n",
       "      <td>THE CENTER TOKYO</td>\n",
       "      <td>東京都新宿区市谷本村町</td>\n",
       "      <td>\\n都営新宿線/曙橋駅 歩5分\\nＪＲ中央線/市ケ谷駅 歩15分\\n都営大江戸線/牛込柳町駅...</td>\n",
       "      <td>\\n築16年\\n地下2地上38階建\\n</td>\n",
       "      <td>\\r\\n\\t\\t\\t\\t\\t\\t\\t\\t\\t\\t\\t16階</td>\n",
       "      <td>390000.0</td>\n",
       "      <td>20000.0</td>\n",
       "      <td>390000.0</td>\n",
       "      <td>390000.0</td>\n",
       "      <td>3.0</td>\n",
       "      <td>84.77</td>\n",
       "    </tr>\n",
       "    <tr>\n",
       "      <th>2</th>\n",
       "      <td>THE CENTER TOKYO</td>\n",
       "      <td>東京都新宿区市谷本村町</td>\n",
       "      <td>\\n都営新宿線/曙橋駅 歩5分\\nＪＲ中央線/市ケ谷駅 歩15分\\n都営大江戸線/牛込柳町駅...</td>\n",
       "      <td>\\n築16年\\n地下2地上38階建\\n</td>\n",
       "      <td>\\r\\n\\t\\t\\t\\t\\t\\t\\t\\t\\t\\t\\t29階</td>\n",
       "      <td>420000.0</td>\n",
       "      <td>NaN</td>\n",
       "      <td>840000.0</td>\n",
       "      <td>420000.0</td>\n",
       "      <td>1.0</td>\n",
       "      <td>87.14</td>\n",
       "    </tr>\n",
       "    <tr>\n",
       "      <th>3</th>\n",
       "      <td>ザ・パークハウス新宿柏木</td>\n",
       "      <td>東京都新宿区北新宿３</td>\n",
       "      <td>\\nＪＲ中央線/大久保駅 歩3分\\nＪＲ山手線/新大久保駅 歩7分\\n西武新宿線/西武新宿駅...</td>\n",
       "      <td>\\n築12年\\n13階建\\n</td>\n",
       "      <td>\\r\\n\\t\\t\\t\\t\\t\\t\\t\\t\\t\\t\\t2階</td>\n",
       "      <td>230000.0</td>\n",
       "      <td>10000.0</td>\n",
       "      <td>230000.0</td>\n",
       "      <td>230000.0</td>\n",
       "      <td>2.0</td>\n",
       "      <td>52.52</td>\n",
       "    </tr>\n",
       "    <tr>\n",
       "      <th>4</th>\n",
       "      <td>ザ・パークハウス新宿柏木</td>\n",
       "      <td>東京都新宿区北新宿３</td>\n",
       "      <td>\\nＪＲ中央線/大久保駅 歩3分\\nＪＲ山手線/新大久保駅 歩7分\\n西武新宿線/西武新宿駅...</td>\n",
       "      <td>\\n築12年\\n13階建\\n</td>\n",
       "      <td>\\r\\n\\t\\t\\t\\t\\t\\t\\t\\t\\t\\t\\t1階</td>\n",
       "      <td>295000.0</td>\n",
       "      <td>15000.0</td>\n",
       "      <td>295000.0</td>\n",
       "      <td>295000.0</td>\n",
       "      <td>3.0</td>\n",
       "      <td>71.31</td>\n",
       "    </tr>\n",
       "    <tr>\n",
       "      <th>...</th>\n",
       "      <td>...</td>\n",
       "      <td>...</td>\n",
       "      <td>...</td>\n",
       "      <td>...</td>\n",
       "      <td>...</td>\n",
       "      <td>...</td>\n",
       "      <td>...</td>\n",
       "      <td>...</td>\n",
       "      <td>...</td>\n",
       "      <td>...</td>\n",
       "      <td>...</td>\n",
       "    </tr>\n",
       "    <tr>\n",
       "      <th>170</th>\n",
       "      <td>都営大江戸線 西新宿五丁目駅 地下2地上60階建 築7年</td>\n",
       "      <td>東京都新宿区西新宿５</td>\n",
       "      <td>\\n都営大江戸線/西新宿五丁目駅 歩7分\\n東京メトロ丸ノ内線/西新宿駅 歩9分\\n都営大江...</td>\n",
       "      <td>\\n築7年\\n地下2地上60階建\\n</td>\n",
       "      <td>\\r\\n\\t\\t\\t\\t\\t\\t\\t\\t\\t\\t\\t56階</td>\n",
       "      <td>485000.0</td>\n",
       "      <td>10000.0</td>\n",
       "      <td>970000.0</td>\n",
       "      <td>485000.0</td>\n",
       "      <td>2.0</td>\n",
       "      <td>89.31</td>\n",
       "    </tr>\n",
       "    <tr>\n",
       "      <th>171</th>\n",
       "      <td>都営大江戸線 西新宿五丁目駅 地下2地上60階建 築7年</td>\n",
       "      <td>東京都新宿区西新宿５</td>\n",
       "      <td>\\n都営大江戸線/西新宿五丁目駅 歩7分\\n東京メトロ丸ノ内線/西新宿駅 歩9分\\n都営大江...</td>\n",
       "      <td>\\n築7年\\n地下2地上60階建\\n</td>\n",
       "      <td>\\r\\n\\t\\t\\t\\t\\t\\t\\t\\t\\t\\t\\t56階</td>\n",
       "      <td>485000.0</td>\n",
       "      <td>10000.0</td>\n",
       "      <td>970000.0</td>\n",
       "      <td>485000.0</td>\n",
       "      <td>2.0</td>\n",
       "      <td>89.31</td>\n",
       "    </tr>\n",
       "    <tr>\n",
       "      <th>172</th>\n",
       "      <td>都営大江戸線 西新宿五丁目駅 地下2地上60階建 築7年</td>\n",
       "      <td>東京都新宿区西新宿５</td>\n",
       "      <td>\\n都営大江戸線/西新宿五丁目駅 歩7分\\n東京メトロ丸ノ内線/西新宿駅 歩9分\\n都営大江...</td>\n",
       "      <td>\\n築7年\\n地下2地上60階建\\n</td>\n",
       "      <td>\\r\\n\\t\\t\\t\\t\\t\\t\\t\\t\\t\\t\\t52階</td>\n",
       "      <td>480000.0</td>\n",
       "      <td>20000.0</td>\n",
       "      <td>480000.0</td>\n",
       "      <td>480000.0</td>\n",
       "      <td>3.0</td>\n",
       "      <td>89.86</td>\n",
       "    </tr>\n",
       "    <tr>\n",
       "      <th>173</th>\n",
       "      <td>パークハウス牛込北町</td>\n",
       "      <td>東京都新宿区北町</td>\n",
       "      <td>\\n都営大江戸線/牛込神楽坂駅 歩4分\\n東京メトロ東西線/神楽坂駅 歩10分\\nＪＲ総武線...</td>\n",
       "      <td>\\n築13年\\n5階建\\n</td>\n",
       "      <td>\\r\\n\\t\\t\\t\\t\\t\\t\\t\\t\\t\\t\\t2階</td>\n",
       "      <td>209000.0</td>\n",
       "      <td>10000.0</td>\n",
       "      <td>209000.0</td>\n",
       "      <td>209000.0</td>\n",
       "      <td>1.0</td>\n",
       "      <td>43.00</td>\n",
       "    </tr>\n",
       "    <tr>\n",
       "      <th>174</th>\n",
       "      <td>La Gracia 四谷</td>\n",
       "      <td>東京都新宿区荒木町</td>\n",
       "      <td>\\n東京メトロ丸ノ内線/四谷三丁目駅 歩3分\\n都営新宿線/曙橋駅 歩6分\\nＪＲ中央線/四...</td>\n",
       "      <td>\\n築1年\\n10階建\\n</td>\n",
       "      <td>\\r\\n\\t\\t\\t\\t\\t\\t\\t\\t\\t\\t\\t5階</td>\n",
       "      <td>181000.0</td>\n",
       "      <td>11500.0</td>\n",
       "      <td>NaN</td>\n",
       "      <td>181000.0</td>\n",
       "      <td>1.0</td>\n",
       "      <td>40.45</td>\n",
       "    </tr>\n",
       "  </tbody>\n",
       "</table>\n",
       "<p>175 rows × 11 columns</p>\n",
       "</div>"
      ],
      "text/plain": [
       "                            title      address   \n",
       "0                         フラッツ神楽坂    東京都新宿区矢来町  \\\n",
       "1                THE CENTER TOKYO  東京都新宿区市谷本村町   \n",
       "2                THE CENTER TOKYO  東京都新宿区市谷本村町   \n",
       "3                    ザ・パークハウス新宿柏木   東京都新宿区北新宿３   \n",
       "4                    ザ・パークハウス新宿柏木   東京都新宿区北新宿３   \n",
       "..                            ...          ...   \n",
       "170  都営大江戸線 西新宿五丁目駅 地下2地上60階建 築7年   東京都新宿区西新宿５   \n",
       "171  都営大江戸線 西新宿五丁目駅 地下2地上60階建 築7年   東京都新宿区西新宿５   \n",
       "172  都営大江戸線 西新宿五丁目駅 地下2地上60階建 築7年   東京都新宿区西新宿５   \n",
       "173                    パークハウス牛込北町     東京都新宿区北町   \n",
       "174                  La Gracia 四谷    東京都新宿区荒木町   \n",
       "\n",
       "                                                access                  age   \n",
       "0    \\n東京メトロ東西線/神楽坂駅 歩2分\\n都営大江戸線/牛込神楽坂駅 歩8分\\nＪＲ中央線/...        \\n築10年\\n3階建\\n  \\\n",
       "1    \\n都営新宿線/曙橋駅 歩5分\\nＪＲ中央線/市ケ谷駅 歩15分\\n都営大江戸線/牛込柳町駅...  \\n築16年\\n地下2地上38階建\\n   \n",
       "2    \\n都営新宿線/曙橋駅 歩5分\\nＪＲ中央線/市ケ谷駅 歩15分\\n都営大江戸線/牛込柳町駅...  \\n築16年\\n地下2地上38階建\\n   \n",
       "3    \\nＪＲ中央線/大久保駅 歩3分\\nＪＲ山手線/新大久保駅 歩7分\\n西武新宿線/西武新宿駅...       \\n築12年\\n13階建\\n   \n",
       "4    \\nＪＲ中央線/大久保駅 歩3分\\nＪＲ山手線/新大久保駅 歩7分\\n西武新宿線/西武新宿駅...       \\n築12年\\n13階建\\n   \n",
       "..                                                 ...                  ...   \n",
       "170  \\n都営大江戸線/西新宿五丁目駅 歩7分\\n東京メトロ丸ノ内線/西新宿駅 歩9分\\n都営大江...   \\n築7年\\n地下2地上60階建\\n   \n",
       "171  \\n都営大江戸線/西新宿五丁目駅 歩7分\\n東京メトロ丸ノ内線/西新宿駅 歩9分\\n都営大江...   \\n築7年\\n地下2地上60階建\\n   \n",
       "172  \\n都営大江戸線/西新宿五丁目駅 歩7分\\n東京メトロ丸ノ内線/西新宿駅 歩9分\\n都営大江...   \\n築7年\\n地下2地上60階建\\n   \n",
       "173  \\n都営大江戸線/牛込神楽坂駅 歩4分\\n東京メトロ東西線/神楽坂駅 歩10分\\nＪＲ総武線...        \\n築13年\\n5階建\\n   \n",
       "174  \\n東京メトロ丸ノ内線/四谷三丁目駅 歩3分\\n都営新宿線/曙橋駅 歩6分\\nＪＲ中央線/四...        \\n築1年\\n10階建\\n   \n",
       "\n",
       "                             floor       fee  management_fee   deposit   \n",
       "0     \\r\\n\\t\\t\\t\\t\\t\\t\\t\\t\\t\\t\\t1階  160000.0          2000.0  160000.0  \\\n",
       "1    \\r\\n\\t\\t\\t\\t\\t\\t\\t\\t\\t\\t\\t16階  390000.0         20000.0  390000.0   \n",
       "2    \\r\\n\\t\\t\\t\\t\\t\\t\\t\\t\\t\\t\\t29階  420000.0             NaN  840000.0   \n",
       "3     \\r\\n\\t\\t\\t\\t\\t\\t\\t\\t\\t\\t\\t2階  230000.0         10000.0  230000.0   \n",
       "4     \\r\\n\\t\\t\\t\\t\\t\\t\\t\\t\\t\\t\\t1階  295000.0         15000.0  295000.0   \n",
       "..                             ...       ...             ...       ...   \n",
       "170  \\r\\n\\t\\t\\t\\t\\t\\t\\t\\t\\t\\t\\t56階  485000.0         10000.0  970000.0   \n",
       "171  \\r\\n\\t\\t\\t\\t\\t\\t\\t\\t\\t\\t\\t56階  485000.0         10000.0  970000.0   \n",
       "172  \\r\\n\\t\\t\\t\\t\\t\\t\\t\\t\\t\\t\\t52階  480000.0         20000.0  480000.0   \n",
       "173   \\r\\n\\t\\t\\t\\t\\t\\t\\t\\t\\t\\t\\t2階  209000.0         10000.0  209000.0   \n",
       "174   \\r\\n\\t\\t\\t\\t\\t\\t\\t\\t\\t\\t\\t5階  181000.0         11500.0       NaN   \n",
       "\n",
       "     gratuity  madori  menseki  \n",
       "0    160000.0     2.0    61.73  \n",
       "1    390000.0     3.0    84.77  \n",
       "2    420000.0     1.0    87.14  \n",
       "3    230000.0     2.0    52.52  \n",
       "4    295000.0     3.0    71.31  \n",
       "..        ...     ...      ...  \n",
       "170  485000.0     2.0    89.31  \n",
       "171  485000.0     2.0    89.31  \n",
       "172  480000.0     3.0    89.86  \n",
       "173  209000.0     1.0    43.00  \n",
       "174  181000.0     1.0    40.45  \n",
       "\n",
       "[175 rows x 11 columns]"
      ]
     },
     "execution_count": 133,
     "metadata": {},
     "output_type": "execute_result"
    }
   ],
   "source": [
    "df"
   ]
  },
  {
   "cell_type": "code",
   "execution_count": 134,
   "id": "c1356a52-e027-43eb-bfaa-5bfb541f8c4f",
   "metadata": {
    "tags": []
   },
   "outputs": [
    {
     "data": {
      "text/plain": [
       "{'spreadsheetId': '1BzQ19jeu8m6hpW9MYXRCDM9Q8S5VhKWTQV-pL6a9ngI',\n",
       " 'clearedRange': 'shinjuku1!A1:Z1000'}"
      ]
     },
     "execution_count": 134,
     "metadata": {},
     "output_type": "execute_result"
    }
   ],
   "source": [
    "sh = gc.open_by_key(SP_SHEET_KEY)\n",
    "worksheet = sh.worksheet(SP_SHEET)\n",
    "worksheet.clear() "
   ]
  },
  {
   "cell_type": "code",
   "execution_count": 140,
   "id": "3010e244-e0eb-402a-91e7-0e56c6c4f765",
   "metadata": {
    "tags": []
   },
   "outputs": [],
   "source": [
    "df = df.fillna(0)"
   ]
  },
  {
   "cell_type": "code",
   "execution_count": 141,
   "id": "dff6abad-b1c6-42ba-8924-26c1c7649d71",
   "metadata": {
    "tags": []
   },
   "outputs": [
    {
     "data": {
      "text/plain": [
       "{'spreadsheetId': '1BzQ19jeu8m6hpW9MYXRCDM9Q8S5VhKWTQV-pL6a9ngI',\n",
       " 'updatedRange': 'shinjuku1!A1:K176',\n",
       " 'updatedRows': 176,\n",
       " 'updatedColumns': 11,\n",
       " 'updatedCells': 1936}"
      ]
     },
     "execution_count": 141,
     "metadata": {},
     "output_type": "execute_result"
    }
   ],
   "source": [
    "# DataFrameをリストのリストに変換\n",
    "values = [df.columns.values.tolist()] + df.values.tolist()\n",
    "\n",
    "# スプレッドシートを更新\n",
    "worksheet.update('A1', values)\n"
   ]
  },
  {
   "cell_type": "code",
   "execution_count": null,
   "id": "bc9f2000-823c-4573-9115-d606abc9b6f1",
   "metadata": {},
   "outputs": [],
   "source": []
  },
  {
   "cell_type": "code",
   "execution_count": null,
   "id": "5bded85e-ee68-4bd5-adc7-04d29691b4c3",
   "metadata": {},
   "outputs": [],
   "source": []
  }
 ],
 "metadata": {
  "kernelspec": {
   "display_name": "Python 3 (ipykernel)",
   "language": "python",
   "name": "python3"
  },
  "language_info": {
   "codemirror_mode": {
    "name": "ipython",
    "version": 3
   },
   "file_extension": ".py",
   "mimetype": "text/x-python",
   "name": "python",
   "nbconvert_exporter": "python",
   "pygments_lexer": "ipython3",
   "version": "3.10.9"
  }
 },
 "nbformat": 4,
 "nbformat_minor": 5
}
