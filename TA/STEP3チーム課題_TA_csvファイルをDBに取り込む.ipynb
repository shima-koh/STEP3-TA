{
 "cells": [
  {
   "cell_type": "code",
   "execution_count": 1,
   "metadata": {},
   "outputs": [],
   "source": [
    "import sqlite3\n",
    "import pandas as pd\n",
    "\n",
    "csv_file = 'サロン利用実態.csv'  # CSVファイルのパス\n",
    "df = pd.read_csv(csv_file)\n",
    "\n",
    "# SQLiteデータベース接続\n",
    "conn = sqlite3.connect('STEP3チーム課題_TA_IndéMode_DB.db')\n",
    "\n",
    "# カーソルを作成\n",
    "cursor = conn.cursor()\n",
    "\n",
    "# データフレームをSQLiteデータベースに挿入\n",
    "table_name = 'サロン利用実態' \n",
    "df.to_sql(table_name, conn, if_exists='replace', index=False)\n",
    "\n",
    "# データベース接続を閉じる\n",
    "conn.close()\n"
   ]
  }
 ],
 "metadata": {
  "kernelspec": {
   "display_name": "Python 3",
   "language": "python",
   "name": "python3"
  },
  "language_info": {
   "codemirror_mode": {
    "name": "ipython",
    "version": 3
   },
   "file_extension": ".py",
   "mimetype": "text/x-python",
   "name": "python",
   "nbconvert_exporter": "python",
   "pygments_lexer": "ipython3",
   "version": "3.11.3"
  },
  "orig_nbformat": 4
 },
 "nbformat": 4,
 "nbformat_minor": 2
}
