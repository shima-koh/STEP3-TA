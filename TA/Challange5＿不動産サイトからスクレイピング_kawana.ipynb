{
 "cells": [
  {
   "cell_type": "markdown",
   "metadata": {},
   "source": [
    "# Challenge5 不動産サイトからスクレイピング"
   ]
  },
  {
   "cell_type": "markdown",
   "metadata": {},
   "source": [
    "### 【ミッション】  \n",
    "● RequestでHTML取得  \n",
    "● HTMLデータから欲しい情報を取得  \n",
    "● 取得データをPandasで構造化して保存  "
   ]
  },
  {
   "cell_type": "markdown",
   "metadata": {},
   "source": [
    "### 【RequestでHTML取得】"
   ]
  },
  {
   "cell_type": "markdown",
   "metadata": {},
   "source": [
    ">0. 検索する情報の仮決め"
   ]
  },
  {
   "cell_type": "markdown",
   "metadata": {},
   "source": [
    "「東京駅周辺」　の　「美容室・理容室」　の業種が出店できる　「貸店舗・空き店舗」　物件一覧  \n",
    "https://www.athome.co.jp/rent_store/barber-gy/tokyo/list/?pref=13&stations=yamanote_2172-2171021&basic=kc501,kc626,kc820,kt201,ke001,kn001,kj001&tsubo=0&tanka=0&kod=&ind=tp115,tp999&q=1"
   ]
  },
  {
   "cell_type": "markdown",
   "metadata": {},
   "source": [
    ">1. 規約の確認\n"
   ]
  },
  {
   "cell_type": "markdown",
   "metadata": {},
   "source": [
    "https://www.athome.co.jp/robots.txt  \n",
    "「 Disallow:/rent_store 」を検索 → 無し "
   ]
  },
  {
   "cell_type": "markdown",
   "metadata": {},
   "source": [
    ">2. 環境構築"
   ]
  },
  {
   "cell_type": "markdown",
   "metadata": {},
   "source": [
    "ターミナルにて、  \n",
    " ● pip install requests  \n",
    " ● pip install beautifulsoup4  "
   ]
  },
  {
   "cell_type": "markdown",
   "metadata": {},
   "source": [
    ">3. ライブラリインポート"
   ]
  },
  {
   "cell_type": "code",
   "execution_count": 1,
   "metadata": {},
   "outputs": [],
   "source": [
    "import requests\n",
    "from bs4 import BeautifulSoup"
   ]
  },
  {
   "cell_type": "markdown",
   "metadata": {},
   "source": [
    ">4. htmlデータ取得"
   ]
  },
  {
   "cell_type": "code",
   "execution_count": 4,
   "metadata": {},
   "outputs": [],
   "source": [
    "REQUESTS_URL = 'https://www.athome.co.jp/rent_store/barber-gy/tokyo/list/?pref=13&stations=yamanote_2172-2171021&basic=kc501,kc626,kc820,kt201,ke001,kn001,kj001&tsubo=0&tanka=0&kod=&ind=tp115,tp999&q=1'\n",
    "res = requests.get(REQUESTS_URL)"
   ]
  },
  {
   "cell_type": "markdown",
   "metadata": {},
   "source": [
    ">5. 文字化けチェック"
   ]
  },
  {
   "cell_type": "code",
   "execution_count": 7,
   "metadata": {},
   "outputs": [
    {
     "name": "stdout",
     "output_type": "stream",
     "text": [
      "<!DOCTYPE html>\n",
      "<html>\n",
      "\n",
      "    <head>\n",
      "        <meta charset=\"utf-8\">\n",
      "        <meta name=\"robots\" content=\"noindex,nofollow\">\n",
      "        <meta name=\"viewport\" content=\"width=device-width, initial-scale=1.0\">\n",
      "        <style>\n",
      "            .container {\n",
      "                max-width: 600px;\n",
      "                min-width: 300px;\n",
      "                margin: auto;\n",
      "            }\n",
      "\n",
      "            .container .center {\n",
      "                text-align: center;\n",
      "            }\n",
      "\n",
      "            .container img {\n",
      "                margin: 30px auto;\n",
      "            }\n",
      "        </style>\n",
      "            <script type=\"text/javascript\" src=\"/eadjaxlayqcmrfpo\" async defer></script>\n",
      "\n",
      "        \n",
      "                    <script src=\"https://static.geetest.com/static/tools/gt.js\"></script>\n",
      "                       <script>\n",
      "                          initGeetest({\n",
      "                            gt: \"f2ae6cadcf7886856696502e1d55e00c\",\n",
      "                            challenge: \"89bcdaa8d74b4c3f230fad2474a04238\",\n",
      "                            offline: false,\n",
      "                            new_captcha: true,\n",
      "                            lang: window.geetestLang || \"en\",\n",
      "                          }, function (captchaObj) {\n",
      "                            captchaObj.onSuccess(function () {\n",
      "                                var obj = captchaObj.getValidate();\n",
      "                                solvedCaptcha({\n",
      "                                    geetest_challenge: obj.geetest_challenge,\n",
      "                                    geetest_seccode: obj.geetest_seccode,\n",
      "                                    geetest_validate: obj.geetest_validate,\n",
      "                                    data: \"3:mrwrZO9sPZlCZZO00Mtdfg==:ZvPm5L8PIz5qIB/MhCCiMvKhfhF8ntCV//epE67d7IV0I8yZr/avFHtU9KzPSf6Y:ARz3tXa64iv55QtLMZdWwwBtqcMXQ+vNcR0g5Vems6c=\"\n",
      "                                });\n",
      "                            });\n",
      "                            captchaObj.appendTo('#captcha-box');\n",
      "                          });\n",
      "                       </script>\n",
      "                    \n",
      "                    <script>\n",
      "                        function solvedCaptcha(payload) {\n",
      "                            const timeoutMs = 10000;\n",
      "                            protectionSubmitCaptcha(\"geetest\", payload, timeoutMs, \"3:UJwoshkyWfDhNLXdx1PiKw==:eDHH5vGpO+oulkeYOYS5UT2IhwyzFKd2UMGzW/pxiCXDv+5gHp20WoYKZoUFJmoFgRalCtL4beFPe+ML3HTJq/fGdKeb2iH6ZMIGKRXvCE85RILYrg19eKqlgO+w3NVwIT3grZeLb0cG0Z+Ly6xX5AfejSX0zJPXyI7KOZHybxsGP1ZqAmQi3CZJGDCaH0sDS3MBU7WM6p8/9tuGfSQA1dZ1yBIyjW/UO6VFEYNQgvc=:IIEai7V5GOSMqe9DSqsq11z4ES87zc596w4OG7nCnR0=\")\n",
      "                                .then(\n",
      "                                    function() {\n",
      "                                        window.location.reload(true);\n",
      "                                    },\n",
      "                                    function(error) {\n",
      "                                        console.log(error);\n",
      "                                    },\n",
      "                                );\n",
      "                        }\n",
      "                    </script>\n",
      "                <title>èªè¨¼ã«ãååãã ããã</title>\n",
      "    </head>\n",
      "    <body>\n",
      "        \n",
      "\n",
      "        <div class=\"container\">\n",
      "            <div class=\"center\">\n",
      "                <img src=\"data:image/gif;base64,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\"\n",
      "                    alt=\"è³è²¸ãä¸åç£ãªãã¢ãããã¼ã -è³è²¸ãã³ã·ã§ã³ãè³è²¸ç©ä»¶ãªã©ã®ä¸åç£æå ±ãµã¤ãã¢ãããã¼ã \">\n",
      "                <h2>èªè¨¼ã«ãååãã ããã</h2>\n",
      "            </div>\n",
      "            <p>ãã®ç»é¢ãè¡¨ç¤ºãããçç±ã¯ããã¤ãããã¾ãã</p>\n",
      "            <ul>\n",
      "                <li>éå¸¸ã®ãµã¤ãé²è¦§ãè¶ããéåº¦ã§ãªã¯ã¨ã¹ããç¹°ãè¿ãã¦ãã</li>\n",
      "                <li>ã¦ã§ããã©ã¦ã¶ã®JavaScriptè¨­å®ãç¡å¹ã«ãªã£ã¦ãã</li>\n",
      "                <li>Ghostery ã NoScriptãªã©ã®ãµã¼ããã¼ãã£ã®ãã©ã¦ã¶ãã©ã°ã¤ã³ã«ãã£ã¦JavaScriptã®å®è¡ãéªé­ããã¦ãã</li>\n",
      "            </ul>\n",
      "            <p>ãµã¤ãã®é²è¦§ãç¶ããã«ã¯ããææ°ã§ããä»¥ä¸ã®ãClick to verifyã(ã¯ãªãã¯ãã¦æ¤è¨¼)ããããºã«èªè¨¼ãè¡ã£ã¦ãã ããã</p>\n",
      "            <p>ããºã«èªè¨¼ã®ããæ¹ï¼ããºã«ãã¼ã¹ãããºã«ã®æãã¦ããé¨åã¾ã§ãã©ãã°ãã¦ããºã«ãå®æããã¦ãã ããã</p>\n",
      "            <div class=\"center\">\n",
      "                \n",
      "                    <script>\n",
      "                    showBlockPage()\n",
      "                    document.writeln(window.captchaDescription || \"<p>After completing the CAPTCHA below, you will immediately regain access to the site again.</p>\");\n",
      "                    </script>\n",
      "                <div id=\"captcha-box\"></div></br>Date: 2023-09-09 21:16:02</br>IP: 1.113.58.194</br>User-Agent: python-requests/2.29.0</br>Request: GET /rent_store/barber-gy/tokyo/list/?pref=13&stations=yamanote_2172-2171021&basic=kc501,kc626,kc820,kt201,ke001,kn001,kj001&tsubo=0&tanka=0&kod=&ind=tp115,tp999&q=1</br></br>\n",
      "            </div>\n",
      "            <div>\n",
      "                <p>\n",
      "                    ãã¼ã¸ãè¡¨ç¤ºãããªãå ´åã¯ãã¡ãã®\n",
      "                    <a href=\"https://www.athome.co.jp/atweb_static/customer_toi/customer02.html\" target=\"_blank\">ãã©ã¼ã </a>ãããåãåãããã ããã\n",
      "                </p>\n",
      "            </div>\n",
      "        </div>\n",
      "    </body>\n",
      "</html>\n",
      "\n",
      "\n"
     ]
    }
   ],
   "source": [
    "result = res.text\n",
    "print(result)"
   ]
  },
  {
   "cell_type": "code",
   "execution_count": 8,
   "metadata": {},
   "outputs": [
    {
     "name": "stdout",
     "output_type": "stream",
     "text": [
      "ISO-8859-1\n"
     ]
    }
   ],
   "source": [
    "# 文字コードの確認\n",
    "print(res.encoding)"
   ]
  },
  {
   "cell_type": "code",
   "execution_count": 9,
   "metadata": {},
   "outputs": [
    {
     "name": "stdout",
     "output_type": "stream",
     "text": [
      "<!DOCTYPE html>\n",
      "<html>\n",
      "\n",
      "    <head>\n",
      "        <meta charset=\"utf-8\">\n",
      "        <meta name=\"robots\" content=\"noindex,nofollow\">\n",
      "        <meta name=\"viewport\" content=\"width=device-width, initial-scale=1.0\">\n",
      "        <style>\n",
      "            .container {\n",
      "                max-width: 600px;\n",
      "                min-width: 300px;\n",
      "                margin: auto;\n",
      "            }\n",
      "\n",
      "            .container .center {\n",
      "                text-align: center;\n",
      "            }\n",
      "\n",
      "            .container img {\n",
      "                margin: 30px auto;\n",
      "            }\n",
      "        </style>\n",
      "            <script type=\"text/javascript\" src=\"/eadjaxlayqcmrfpo\" async defer></script>\n",
      "\n",
      "        \n",
      "                    <script src=\"https://static.geetest.com/static/tools/gt.js\"></script>\n",
      "                       <script>\n",
      "                          initGeetest({\n",
      "                            gt: \"f2ae6cadcf7886856696502e1d55e00c\",\n",
      "                            challenge: \"89bcdaa8d74b4c3f230fad2474a04238\",\n",
      "                            offline: false,\n",
      "                            new_captcha: true,\n",
      "                            lang: window.geetestLang || \"en\",\n",
      "                          }, function (captchaObj) {\n",
      "                            captchaObj.onSuccess(function () {\n",
      "                                var obj = captchaObj.getValidate();\n",
      "                                solvedCaptcha({\n",
      "                                    geetest_challenge: obj.geetest_challenge,\n",
      "                                    geetest_seccode: obj.geetest_seccode,\n",
      "                                    geetest_validate: obj.geetest_validate,\n",
      "                                    data: \"3:mrwrZO9sPZlCZZO00Mtdfg==:ZvPm5L8PIz5qIB/MhCCiMvKhfhF8ntCV//epE67d7IV0I8yZr/avFHtU9KzPSf6Y:ARz3tXa64iv55QtLMZdWwwBtqcMXQ+vNcR0g5Vems6c=\"\n",
      "                                });\n",
      "                            });\n",
      "                            captchaObj.appendTo('#captcha-box');\n",
      "                          });\n",
      "                       </script>\n",
      "                    \n",
      "                    <script>\n",
      "                        function solvedCaptcha(payload) {\n",
      "                            const timeoutMs = 10000;\n",
      "                            protectionSubmitCaptcha(\"geetest\", payload, timeoutMs, \"3:UJwoshkyWfDhNLXdx1PiKw==:eDHH5vGpO+oulkeYOYS5UT2IhwyzFKd2UMGzW/pxiCXDv+5gHp20WoYKZoUFJmoFgRalCtL4beFPe+ML3HTJq/fGdKeb2iH6ZMIGKRXvCE85RILYrg19eKqlgO+w3NVwIT3grZeLb0cG0Z+Ly6xX5AfejSX0zJPXyI7KOZHybxsGP1ZqAmQi3CZJGDCaH0sDS3MBU7WM6p8/9tuGfSQA1dZ1yBIyjW/UO6VFEYNQgvc=:IIEai7V5GOSMqe9DSqsq11z4ES87zc596w4OG7nCnR0=\")\n",
      "                                .then(\n",
      "                                    function() {\n",
      "                                        window.location.reload(true);\n",
      "                                    },\n",
      "                                    function(error) {\n",
      "                                        console.log(error);\n",
      "                                    },\n",
      "                                );\n",
      "                        }\n",
      "                    </script>\n",
      "                <title>認証にご協力ください。</title>\n",
      "    </head>\n",
      "    <body>\n",
      "        \n",
      "\n",
      "        <div class=\"container\">\n",
      "            <div class=\"center\">\n",
      "                <img src=\"data:image/gif;base64,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\"\n",
      "                    alt=\"賃貸や不動産ならアットホーム-賃貸マンションや賃貸物件などの不動産情報サイトアットホーム\">\n",
      "                <h2>認証にご協力ください。</h2>\n",
      "            </div>\n",
      "            <p>この画面が表示される理由はいくつかあります。</p>\n",
      "            <ul>\n",
      "                <li>通常のサイト閲覧を超える速度でリクエストを繰り返している</li>\n",
      "                <li>ウェブブラウザのJavaScript設定が無効になっている</li>\n",
      "                <li>Ghostery や NoScriptなどのサードパーティのブラウザプラグインによってJavaScriptの実行が邪魔されている</li>\n",
      "            </ul>\n",
      "            <p>サイトの閲覧を続けるには、お手数ですが以下の「Click to verify」(クリックして検証)からパズル認証を行ってください。</p>\n",
      "            <p>パズル認証のやり方：パズルピースをパズルの抜けている部分までドラッグしてパズルを完成させてください。</p>\n",
      "            <div class=\"center\">\n",
      "                \n",
      "                    <script>\n",
      "                    showBlockPage()\n",
      "                    document.writeln(window.captchaDescription || \"<p>After completing the CAPTCHA below, you will immediately regain access to the site again.</p>\");\n",
      "                    </script>\n",
      "                <div id=\"captcha-box\"></div></br>Date: 2023-09-09 21:16:02</br>IP: 1.113.58.194</br>User-Agent: python-requests/2.29.0</br>Request: GET /rent_store/barber-gy/tokyo/list/?pref=13&stations=yamanote_2172-2171021&basic=kc501,kc626,kc820,kt201,ke001,kn001,kj001&tsubo=0&tanka=0&kod=&ind=tp115,tp999&q=1</br></br>\n",
      "            </div>\n",
      "            <div>\n",
      "                <p>\n",
      "                    ページが表示されない場合はこちらの\n",
      "                    <a href=\"https://www.athome.co.jp/atweb_static/customer_toi/customer02.html\" target=\"_blank\">フォーム</a>からお問い合わせください。\n",
      "                </p>\n",
      "            </div>\n",
      "        </div>\n",
      "    </body>\n",
      "</html>\n",
      "\n",
      "\n"
     ]
    }
   ],
   "source": [
    "# 文字コードの変換 (→ utf-8 )\n",
    "res.encoding = 'utf-8'\n",
    "# 文字化けしていないかhtmlを確認\n",
    "print(res.text)"
   ]
  },
  {
   "cell_type": "markdown",
   "metadata": {},
   "source": [
    "### 【HTMLデータから欲しい情報を習得】"
   ]
  }
 ],
 "metadata": {
  "kernelspec": {
   "display_name": "Python 3",
   "language": "python",
   "name": "python3"
  },
  "language_info": {
   "codemirror_mode": {
    "name": "ipython",
    "version": 3
   },
   "file_extension": ".py",
   "mimetype": "text/x-python",
   "name": "python",
   "nbconvert_exporter": "python",
   "pygments_lexer": "ipython3",
   "version": "3.11.3"
  },
  "orig_nbformat": 4
 },
 "nbformat": 4,
 "nbformat_minor": 2
}
